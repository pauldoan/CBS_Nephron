{
 "cells": [
  {
   "cell_type": "code",
   "execution_count": 7,
   "metadata": {},
   "outputs": [],
   "source": [
    "import numpy as np\n",
    "import pandas as pd\n",
    "from fbprophet import Prophet\n",
    "import matplotlib.pyplot as plt\n",
    "import warnings\n",
    "warnings.filterwarnings('ignore')\n",
    "from collections import Counter\n",
    "import math  "
   ]
  },
  {
   "cell_type": "code",
   "execution_count": 8,
   "metadata": {},
   "outputs": [],
   "source": [
    "def history(class_name):\n",
    "    df = pd.read_csv('drugs_pct_changes_monthly.csv') ## contain data from 2014-08-01 to 2020-07-01\n",
    "    df.loc[df['Estimated LOE Date'] == 'Unspecified', 'Estimated LOE Date'] = 'May-24'\n",
    "    df['Estimated LOE Date'] = pd.to_datetime(df['Estimated LOE Date'], format='%b-%y')\n",
    "    df = df[df['Estimated LOE Date'] >= pd.to_datetime('2020-07-01')]\n",
    "    df = df[df['Major Class'] == class_name]\n",
    "    def fun(row):\n",
    "        return str(row['Year'])+'-' + str(row['Month'])\n",
    "    df['Date'] = df.apply(lambda x:fun(x),axis = 1)\n",
    "    df.Date = pd.to_datetime(df.Date)\n",
    "    df.sort_values(['Date'],inplace = True)\n",
    "    res = df.groupby('Date')['Changed'].mean().to_frame()\n",
    "    res.rename(columns={'Changed':'Percentage of drugs change price'},inplace = True)\n",
    "    return res"
   ]
  },
  {
   "cell_type": "code",
   "execution_count": 9,
   "metadata": {},
   "outputs": [],
   "source": [
    "def fun(row):\n",
    "    return str(row['Year'])+'-' + str(row['Month'])"
   ]
  },
  {
   "cell_type": "code",
   "execution_count": 10,
   "metadata": {},
   "outputs": [],
   "source": [
    "def predict_pct_month(df):\n",
    "        date = max(df.ds)\n",
    "        prophet = Prophet(changepoint_prior_scale=0.05, daily_seasonality=False,weekly_seasonality=False,yearly_seasonality=True)\n",
    "        prophet.fit(df)\n",
    "        build_forecast = prophet.make_future_dataframe(periods=12, freq='M')\n",
    "        forecast = prophet.predict(build_forecast)\n",
    "        forecast = forecast[forecast.ds>=date]\n",
    "        forecast.reset_index(inplace = True)\n",
    "        forecast['pct_change'] = forecast.yhat.apply(lambda x:(x-df.iloc[-1].y)/df.iloc[-1].y)\n",
    "        ##month_ = forecast.iloc[forecast['pct_change'].idxmax()].ds.month\n",
    "        previous_year = df[df.ds>= '2019-08-01']\n",
    "        previous_year.reset_index(inplace = True)\n",
    "        previous_year['pct_change'] = previous_year.y.pct_change()\n",
    "        ## Use this year's change point as prediction for next year\n",
    "        ## If this year the drug price does not increase, go back to previous year\n",
    "        if previous_year['pct_change'].mean() == 0:\n",
    "            previous_year = df[df.ds>= '2018-08-01']\n",
    "            previous_year.reset_index(inplace = True)\n",
    "            previous_year['pct_change'] = previous_year.y.pct_change()\n",
    "            month_ = previous_year.iloc[previous_year['pct_change'].idxmax()].ds.month\n",
    "        else:\n",
    "            month_ = previous_year.iloc[previous_year['pct_change'].idxmax()].ds.month\n",
    "        pct_ = forecast[forecast['pct_change']>0.01]['pct_change'].mean() ## Take average pct_change to filter out fluctuations\n",
    "        if math.isnan(pct_):\n",
    "            pct_ = 0\n",
    "        return month_,pct_"
   ]
  },
  {
   "cell_type": "code",
   "execution_count": 11,
   "metadata": {},
   "outputs": [],
   "source": [
    "def pipe(df):\n",
    "        res = []\n",
    "        for NDC in df.NDC.unique():\n",
    "            try:\n",
    "                temp = df[df.NDC == NDC][['Date','WAC']]\n",
    "                temp.columns = ['ds','y']\n",
    "                a,b = predict_pct_month(temp)\n",
    "                res.append([NDC,a,b])\n",
    "            except:\n",
    "                print(NDC)\n",
    "        return res"
   ]
  },
  {
   "cell_type": "code",
   "execution_count": 12,
   "metadata": {},
   "outputs": [],
   "source": [
    "def pred(class_name):\n",
    "    df = pd.read_csv('monthly_2014_8_2020_7_4k_drugs.csv')\n",
    "    df['Date'] = df.apply(lambda x:fun(x),axis = 1)\n",
    "    df.Date = pd.to_datetime(df.Date)\n",
    "    df.sort_values(['Date'],inplace = True)\n",
    "\n",
    "    ## Filter two\n",
    "    df.dropna(subset=['TRx'],inplace = True)\n",
    "    ## Filter one\n",
    "    list1 = df[(df.Year == 2020) & (df.Month == 7)].NDC.unique()\n",
    "    list2 = df[(df.Year == 2014) & (df.Month == 8)].NDC.unique()\n",
    "    selected_NDC = list(set(list1).intersection(list2)) \n",
    "    df = df[df.NDC.isin(selected_NDC)]\n",
    "    ## Filter three\n",
    "    df.loc[df['Estimated LOE Date'] == 'Unspecified', 'Estimated LOE Date'] = 'May-24'\n",
    "    df['Estimated LOE Date'] = pd.to_datetime(df['Estimated LOE Date'], format='%b-%y')\n",
    "    df = df[df['Estimated LOE Date'] >= pd.to_datetime('2020-07-01')]\n",
    "\n",
    "    ## Drop duplicates\n",
    "    df = df[~df.duplicated()]\n",
    "    df.drop_duplicates(subset=df.columns.difference(['Manufacturer']),inplace = True)\n",
    "    \n",
    "    df = df[df['Major Class'] == class_name]\n",
    "    num_ = len(df)\n",
    "\n",
    "    \n",
    "    res = pipe(df)\n",
    "    res = pd.DataFrame(res,columns=['NDC','pred_change_month','pred_change_rate'])\n",
    "    res = res.merge(df[['NDC','Major Class','Manufacturer']], left_on='NDC', right_on='NDC', how='left')\n",
    "    res = res[~res.duplicated()]\n",
    "    return res,num_\n",
    "    "
   ]
  },
  {
   "cell_type": "code",
   "execution_count": 13,
   "metadata": {},
   "outputs": [],
   "source": [
    "def merge(class_name):\n",
    "    temp,num_ = pred(class_name)\n",
    "    len_ = len(temp)\n",
    "    temp = temp.groupby('pred_change_month')['NDC'].count().to_frame()\n",
    "    temp = temp/len_\n",
    "    temp.rename(columns = {'NDC':'Percentage of drugs change price'},inplace = True)\n",
    "    temp.index = pd.to_datetime(temp.index.to_series().apply(lambda x:'2020-'+str(x)+'-01' if x>=8 else '2021-'+str(x)+'-01'))\n",
    "    \n",
    "    test = history(class_name)\n",
    "    dates= pd.date_range('2020-08-01','2021-07-01' , freq='1M')-pd.offsets.MonthBegin(1)\n",
    "    dates = dates.to_series()\n",
    "    test = pd.concat([test, dates])\n",
    "    test.drop(0,axis = 1,inplace = True)\n",
    "    \n",
    "    test.where(~np.isnan(test), other = temp, inplace = True)\n",
    "    test.fillna(0,inplace = True)\n",
    "    test['Number'] = test['Percentage of drugs change price'].apply(lambda x:round(x*num_,0))\n",
    "    file_name = class_name + '.csv'\n",
    "    test.to_csv(file_name)\n",
    "    "
   ]
  },
  {
   "cell_type": "code",
   "execution_count": 14,
   "metadata": {},
   "outputs": [
    {
     "name": "stderr",
     "output_type": "stream",
     "text": [
      "INFO:numexpr.utils:NumExpr defaulting to 8 threads.\n"
     ]
    }
   ],
   "source": [
    "for class_ in ['MULTIPLE SCLEROSIS','NERVOUS SYSTEM DISORDERS','OTHER CNS','GI PRODUCTS','HEMATOPOIETIC GROWTH FACTORS','OTHER HAEMATOLOGICALS']:\n",
    "    merge(class_)"
   ]
  },
  {
   "cell_type": "code",
   "execution_count": 15,
   "metadata": {},
   "outputs": [],
   "source": [
    "for class_ in ['ONCOLOGICS',\n",
    "'DERMATOLOGICS',\n",
    "'IMMUNOLOGY',\n",
    "'RESP ANTIVIRALS EX FLU',\n",
    "'OPHTHALMOLOGY, GENERAL',\n",
    "'ALLERGY, SYSTEMIC & NASAL']:\n",
    "    merge(class_)"
   ]
  }
 ],
 "metadata": {
  "kernelspec": {
   "display_name": "Python 3",
   "language": "python",
   "name": "python3"
  },
  "language_info": {
   "codemirror_mode": {
    "name": "ipython",
    "version": 3
   },
   "file_extension": ".py",
   "mimetype": "text/x-python",
   "name": "python",
   "nbconvert_exporter": "python",
   "pygments_lexer": "ipython3",
   "version": "3.8.5"
  }
 },
 "nbformat": 4,
 "nbformat_minor": 4
}
