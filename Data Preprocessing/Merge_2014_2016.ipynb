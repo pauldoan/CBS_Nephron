{
 "cells": [
  {
   "cell_type": "code",
   "execution_count": 1,
   "metadata": {},
   "outputs": [],
   "source": [
    "import numpy as np\n",
    "import pandas as pd"
   ]
  },
  {
   "cell_type": "markdown",
   "metadata": {},
   "source": [
    "# Add manufacturer to iqvia data"
   ]
  },
  {
   "cell_type": "code",
   "execution_count": 2,
   "metadata": {},
   "outputs": [
    {
     "data": {
      "text/plain": [
       "0        00002060440\n",
       "1        00002105202\n",
       "2        00002143301\n",
       "3        00002143380\n",
       "4        00002143401\n",
       "            ...     \n",
       "12664    99207051114\n",
       "12665    99207051117\n",
       "12666    99207051413\n",
       "12667    99207051746\n",
       "12668    99207085060\n",
       "Name: NDC, Length: 12669, dtype: object"
      ]
     },
     "execution_count": 2,
     "metadata": {},
     "output_type": "execute_result"
    }
   ],
   "source": [
    "df_IQVIA_Data = pd.read_excel('IQVIA Additional Drug Detail v72020.xlsx')\n",
    "df_IQVIA_Data['NDC'] = [e[0] for e in df_IQVIA_Data.NDC.str.split(' ')]\n",
    "df_IQVIA_Data.NDC.astype(str).str.zfill(11)"
   ]
  },
  {
   "cell_type": "code",
   "execution_count": 3,
   "metadata": {},
   "outputs": [],
   "source": [
    "df_IQVIA_Data.NDC = df_IQVIA_Data.NDC.apply(lambda x:int(x))"
   ]
  },
  {
   "cell_type": "code",
   "execution_count": 4,
   "metadata": {},
   "outputs": [],
   "source": [
    "temp = pd.read_csv('merge_with_iqvia_2017_01_2020_09_monthly.csv')"
   ]
  },
  {
   "cell_type": "code",
   "execution_count": 5,
   "metadata": {},
   "outputs": [],
   "source": [
    "temp = temp[['NDC','Manufacturer']]"
   ]
  },
  {
   "cell_type": "code",
   "execution_count": 6,
   "metadata": {},
   "outputs": [],
   "source": [
    "df_IQVIA_Data = pd.merge(df_IQVIA_Data,temp,left_on='NDC',right_on='NDC',how='inner')"
   ]
  },
  {
   "cell_type": "markdown",
   "metadata": {},
   "source": [
    "# Concat all WAC data"
   ]
  },
  {
   "cell_type": "code",
   "execution_count": 8,
   "metadata": {},
   "outputs": [],
   "source": [
    "df = pd.read_excel('2014-2016 WAC History.xlsx')\n",
    "df = pd.concat([pd.DataFrame({'Date': pd.date_range(row.EffectiveDate, row.EndDate, freq='M'),\n",
    "               'WAC': row.Price,\n",
    "               'Drug Identifier': row.Identifier}, columns=['Date', 'WAC', 'Drug Identifier']) \n",
    "           for i, row in df.iterrows()], ignore_index=True)"
   ]
  },
  {
   "cell_type": "code",
   "execution_count": 9,
   "metadata": {},
   "outputs": [],
   "source": [
    "df.Date = pd.to_datetime(df.Date)\n",
    "df['Month'] = df.Date.apply(lambda x:x.month)\n",
    "df['Year'] = df.Date.apply(lambda x:x.year)\n",
    "df.drop('Date',axis=1,inplace = True)"
   ]
  },
  {
   "cell_type": "code",
   "execution_count": 10,
   "metadata": {},
   "outputs": [],
   "source": [
    "df.rename(columns={\"Drug Identifier\": \"NDC\"},inplace = True)"
   ]
  },
  {
   "cell_type": "code",
   "execution_count": 11,
   "metadata": {},
   "outputs": [],
   "source": [
    "df1 = pd.read_csv('merge_with_iqvia_2017_01_2020_09_monthly.csv')"
   ]
  },
  {
   "cell_type": "code",
   "execution_count": 12,
   "metadata": {},
   "outputs": [],
   "source": [
    "df1= df1[['NDC','WAC','Month','Year']]"
   ]
  },
  {
   "cell_type": "code",
   "execution_count": 13,
   "metadata": {},
   "outputs": [],
   "source": [
    "df = pd.concat([df,df1],sort = True)"
   ]
  },
  {
   "cell_type": "code",
   "execution_count": 14,
   "metadata": {},
   "outputs": [],
   "source": [
    "df.drop_duplicates(keep = 'first',inplace = True)"
   ]
  },
  {
   "cell_type": "code",
   "execution_count": 25,
   "metadata": {},
   "outputs": [],
   "source": [
    "df.to_csv('monthly_data_27k_drugs.csv')"
   ]
  },
  {
   "cell_type": "markdown",
   "metadata": {},
   "source": [
    "# Merge with iqivia"
   ]
  },
  {
   "cell_type": "code",
   "execution_count": 19,
   "metadata": {},
   "outputs": [],
   "source": [
    "df_IQVIA_Data.drop_duplicates(keep = 'first',inplace = True)"
   ]
  },
  {
   "cell_type": "code",
   "execution_count": 8,
   "metadata": {},
   "outputs": [],
   "source": [
    "temp = df_IQVIA_Data.NDC.unique().tolist()\n",
    "df = df[df.NDC.isin(temp)]"
   ]
  },
  {
   "cell_type": "code",
   "execution_count": 20,
   "metadata": {},
   "outputs": [],
   "source": [
    "merge = pd.merge(df,df_IQVIA_Data,left_on='NDC',right_on='NDC',how='inner')"
   ]
  },
  {
   "cell_type": "markdown",
   "metadata": {},
   "source": [
    "# Pivot TRx"
   ]
  },
  {
   "cell_type": "code",
   "execution_count": 40,
   "metadata": {},
   "outputs": [],
   "source": [
    "columns = ['Aug 2014\\nTRx', 'Sep 2014\\nTRx', 'Oct 2014\\nTRx',\n",
    "       'Nov 2014\\nTRx', 'Dec 2014\\nTRx', 'Jan 2015\\nTRx', 'Feb 2015\\nTRx',\n",
    "       'Mar 2015\\nTRx', 'Apr 2015\\nTRx', 'May 2015\\nTRx', 'Jun 2015\\nTRx',\n",
    "       'Jul 2015\\nTRx', 'Aug 2015\\nTRx', 'Sep 2015\\nTRx', 'Oct 2015\\nTRx',\n",
    "       'Nov 2015\\nTRx', 'Dec 2015\\nTRx', 'Jan 2016\\nTRx', 'Feb 2016\\nTRx',\n",
    "       'Mar 2016\\nTRx', 'Apr 2016\\nTRx', 'May 2016\\nTRx', 'Jun 2016\\nTRx',\n",
    "       'Jul 2016\\nTRx', 'Aug 2016\\nTRx', 'Sep 2016\\nTRx', 'Oct 2016\\nTRx',\n",
    "       'Nov 2016\\nTRx', 'Dec 2016\\nTRx', 'Jan 2017\\nTRx', 'Feb 2017\\nTRx',\n",
    "       'Mar 2017\\nTRx', 'Apr 2017\\nTRx', 'May 2017\\nTRx', 'Jun 2017\\nTRx',\n",
    "       'Jul 2017\\nTRx', 'Aug 2017\\nTRx', 'Sep 2017\\nTRx', 'Oct 2017\\nTRx',\n",
    "       'Nov 2017\\nTRx', 'Dec 2017\\nTRx', 'Jan 2018\\nTRx', 'Feb 2018\\nTRx',\n",
    "       'Mar 2018\\nTRx', 'Apr 2018\\nTRx', 'May 2018\\nTRx', 'Jun 2018\\nTRx',\n",
    "       'Jul 2018\\nTRx', 'Aug 2018\\nTRx', 'Sep 2018\\nTRx', 'Oct 2018\\nTRx',\n",
    "       'Nov 2018\\nTRx', 'Dec 2018\\nTRx', 'Jan 2019\\nTRx', 'Feb 2019\\nTRx',\n",
    "       'Mar 2019\\nTRx', 'Apr 2019\\nTRx', 'May 2019\\nTRx', 'Jun 2019\\nTRx',\n",
    "       'Jul 2019\\nTRx', 'Aug 2019\\nTRx', 'Sep 2019\\nTRx', 'Oct 2019\\nTRx',\n",
    "       'Nov 2019\\nTRx', 'Dec 2019\\nTRx', 'Jan 2020\\nTRx', 'Feb 2020\\nTRx',\n",
    "       'Mar 2020\\nTRx', 'Apr 2020\\nTRx', 'May 2020\\nTRx', 'Jun 2020\\nTRx',\n",
    "       'Jul 2020\\nTRx']"
   ]
  },
  {
   "cell_type": "code",
   "execution_count": 41,
   "metadata": {},
   "outputs": [],
   "source": [
    "test = merge.melt(id_vars=[ 'NDC','Year','Month'],  value_vars=columns)\n",
    "test.value.fillna(0,inplace = True)\n",
    "dict_={1:'Jan', 2:'Feb', 3:'Mar', 4:'Apr', 5:'May', 6:'Jun', 7:'Jul', 8:'Aug', 9:'Sep', 10:'Oct', 11:'Nov', 12:'Dec'}\n",
    "def fun(year,month,column):\n",
    "    if dict_[month] == column[:3] and year == int(column[4:8]):\n",
    "        return True\n",
    "    else:\n",
    "        return False\n",
    "test['a'] = test.apply(lambda x:fun(x.Year,x.Month,x.variable),axis = 1)\n",
    "test = test[test.a == True]\n",
    "test.drop(['a','variable'],axis = 1,inplace=True)\n",
    "test.rename(columns={\"value\": \"TRx\"},inplace = True)\n",
    "merge =  pd.merge(merge, test,  how='inner', left_on=['NDC','Year','Month'], right_on = ['NDC','Year','Month'])\n",
    "merge = merge.loc[:, ~merge.columns. isin(columns)]"
   ]
  },
  {
   "cell_type": "code",
   "execution_count": 50,
   "metadata": {},
   "outputs": [],
   "source": [
    "merge['TRx'].replace(0, np.nan,inplace = True)"
   ]
  },
  {
   "cell_type": "code",
   "execution_count": 52,
   "metadata": {},
   "outputs": [],
   "source": [
    "merge.to_csv('monthly_2014_8_2020_7_4k_drugs.csv')"
   ]
  }
 ],
 "metadata": {
  "kernelspec": {
   "display_name": "Python 3",
   "language": "python",
   "name": "python3"
  },
  "language_info": {
   "codemirror_mode": {
    "name": "ipython",
    "version": 3
   },
   "file_extension": ".py",
   "mimetype": "text/x-python",
   "name": "python",
   "nbconvert_exporter": "python",
   "pygments_lexer": "ipython3",
   "version": "3.7.4"
  }
 },
 "nbformat": 4,
 "nbformat_minor": 2
}
