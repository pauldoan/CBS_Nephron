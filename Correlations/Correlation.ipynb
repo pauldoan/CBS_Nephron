{
 "cells": [
  {
   "cell_type": "markdown",
   "metadata": {},
   "source": [
    "# Computing correlations"
   ]
  },
  {
   "cell_type": "code",
   "execution_count": null,
   "metadata": {},
   "outputs": [],
   "source": [
    "# Importing basic libraries\n",
    "import pandas as pd\n",
    "import numpy as np\n",
    "import time\n",
    "import datetime\n",
    "\n",
    "# Plotting libraries\n",
    "import matplotlib.pyplot as plt\n",
    "%matplotlib inline\n",
    "import seaborn as sns\n",
    "sns.set(rc={'figure.figsize':(12,10)})\n",
    "plt.style.use('fivethirtyeight')\n",
    "from tqdm import tqdm"
   ]
  },
  {
   "cell_type": "code",
   "execution_count": null,
   "metadata": {},
   "outputs": [],
   "source": [
    "# Loading the dataset\n",
    "df = pd.read_csv('../Processed_Data/drugs_pct_changes_monthly_since2014_V3.csv')\n",
    "df.head(10)"
   ]
  },
  {
   "cell_type": "code",
   "execution_count": null,
   "metadata": {},
   "outputs": [],
   "source": [
    "df = df[df.Year != 2020]"
   ]
  },
  {
   "cell_type": "markdown",
   "metadata": {},
   "source": [
    "### Trx Correlation"
   ]
  },
  {
   "cell_type": "markdown",
   "metadata": {},
   "source": [
    "Doing it per Major class"
   ]
  },
  {
   "cell_type": "code",
   "execution_count": null,
   "metadata": {},
   "outputs": [],
   "source": [
    "trx = df.groupby(['Major Class', 'Date']).TRx.sum().unstack().dropna().transpose().copy()\n",
    "trx.head()"
   ]
  },
  {
   "cell_type": "code",
   "execution_count": null,
   "metadata": {},
   "outputs": [],
   "source": [
    "trx_corr = trx.corr()\n",
    "trx_corr.head()"
   ]
  },
  {
   "cell_type": "code",
   "execution_count": null,
   "metadata": {},
   "outputs": [],
   "source": [
    "# trx_corr = trx_corr.where(np.triu(np.ones(trx_corr.shape)).astype(np.bool))\n",
    "trx_corr = trx_corr.stack().to_frame().reset_index(level=1).rename(columns={'Major Class': 'column', 0: 'corr'}).reset_index().rename(columns={'Major Class': 'row'})\n",
    "trx_corr"
   ]
  },
  {
   "cell_type": "code",
   "execution_count": null,
   "metadata": {},
   "outputs": [],
   "source": [
    "# trx_corr.to_csv('trx_corr_since2014_noCovid.csv')"
   ]
  },
  {
   "cell_type": "code",
   "execution_count": null,
   "metadata": {},
   "outputs": [],
   "source": [
    "sns.heatmap(trx.corr(), annot=False, cmap=sns.diverging_palette(10, 220, as_cmap=True), vmin = -1, vmax = 1, center = 0)\n",
    "# plt.savefig('TRx_correlations_Major_class_noCovid.jpg', bbox_inches='tight', pad_inches=2)\n",
    "plt.show()"
   ]
  },
  {
   "cell_type": "markdown",
   "metadata": {},
   "source": [
    "### Price Changes Correlation"
   ]
  },
  {
   "cell_type": "markdown",
   "metadata": {},
   "source": [
    "Doing it per Major class"
   ]
  },
  {
   "cell_type": "code",
   "execution_count": null,
   "metadata": {},
   "outputs": [],
   "source": [
    "changed = df.groupby(['Major Class', 'Date']).changed.sum().unstack().transpose().copy()\n",
    "changed.head()"
   ]
  },
  {
   "cell_type": "code",
   "execution_count": null,
   "metadata": {},
   "outputs": [],
   "source": [
    "changed_corr = changed.corr()\n",
    "changed_corr.head()"
   ]
  },
  {
   "cell_type": "code",
   "execution_count": null,
   "metadata": {},
   "outputs": [],
   "source": [
    "# trx_corr = trx_corr.where(np.triu(np.ones(trx_corr.shape)).astype(np.bool))\n",
    "changed_corr = changed_corr.stack().to_frame().reset_index(level=1).rename(columns={'Major Class': 'column', 0: 'corr'}).reset_index().rename(columns={'Major Class': 'row'})\n",
    "changed_corr"
   ]
  },
  {
   "cell_type": "code",
   "execution_count": null,
   "metadata": {},
   "outputs": [],
   "source": [
    "changed_corr.to_csv('price_chg_corr_since2014_noCovid.csv')"
   ]
  },
  {
   "cell_type": "code",
   "execution_count": null,
   "metadata": {},
   "outputs": [],
   "source": [
    "sns.heatmap(changed.corr(), annot=False, cmap=sns.diverging_palette(10, 220, as_cmap=True), vmin = -1, vmax = 1, center = 0)\n",
    "\n",
    "plt.savefig('Price_chanced_correlations_Major_class_noCovid.jpg', bbox_inches='tight', pad_inches=2)\n",
    "plt.show()"
   ]
  },
  {
   "cell_type": "code",
   "execution_count": null,
   "metadata": {},
   "outputs": [],
   "source": []
  }
 ],
 "metadata": {
  "kernelspec": {
   "display_name": "Python 3",
   "language": "python",
   "name": "python3"
  },
  "language_info": {
   "codemirror_mode": {
    "name": "ipython",
    "version": 3
   },
   "file_extension": ".py",
   "mimetype": "text/x-python",
   "name": "python",
   "nbconvert_exporter": "python",
   "pygments_lexer": "ipython3",
   "version": "3.8.5"
  }
 },
 "nbformat": 4,
 "nbformat_minor": 4
}
