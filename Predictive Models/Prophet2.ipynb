{
 "cells": [
  {
   "cell_type": "markdown",
   "metadata": {
    "id": "wEHGn4ba3IFd"
   },
   "source": [
    "# Prophet Prediction"
   ]
  },
  {
   "cell_type": "code",
   "execution_count": 1,
   "metadata": {
    "executionInfo": {
     "elapsed": 2494,
     "status": "ok",
     "timestamp": 1605733166500,
     "user": {
      "displayName": "Paul Doan",
      "photoUrl": "https://lh3.googleusercontent.com/a-/AOh14GjUvDKLyX84nt5fYAOuDGuUtYSLnTO1rDZS7vQDhg=s64",
      "userId": "09758343323255005129"
     },
     "user_tz": 300
    },
    "id": "R-6W7iNz3A81"
   },
   "outputs": [],
   "source": [
    "# Libraries\n",
    "import pandas as pd\n",
    "import numpy as np\n",
    "from fbprophet import Prophet\n",
    "from sklearn.metrics import mean_absolute_error\n",
    "import matplotlib.pyplot as plt\n",
    "import seaborn as sns\n",
    "\n"
   ]
  },
  {
   "cell_type": "markdown",
   "metadata": {},
   "source": [
    "Drug Classes:\n",
    "- A.C.T.H.\n",
    "- A05A1 CHOLERETICS+CHOLEKINETIC\n",
    "- ADHD\n",
    "- ALL OTHER RESPIRATORY\n",
    "- ALL OTHER THERAPEUTICS\n",
    "- ALL OTHER UROLOGICAL\n",
    "- ALLERGY, SYSTEMIC & NASAL\n",
    "- ANTI-ALZHEIMERS\n",
    "- ANTI-ANAEMICS, IRON AND ALL COMBINATIONS\n",
    "- ANTI-INFLAMMATORY AND DIGESTIVE ENZYMES AND MODULA\n",
    "- ANTI-OBESITY PREPS, EXCL. DIETETICS\n",
    "- ANTI-PARASITICS, ANTIMALARIALS, INSECTICIDES\n",
    "- ANTI-ULCERANTS\n",
    "- ANTIBACTERIALS\n",
    "- ANTICOAGULANTS\n",
    "- ANTIDIABETICS\n",
    "- ANTIGOUT PREPS\n",
    "- ANTIHYPERTENSIVES, PLAIN & COMBO\n",
    "- ANTITUBERCULARS\n",
    "- ANTIVIRALS, HERPES\n",
    "- BISPHOSPHONATES TUMOR-RELATED & BONY METASTASES\n",
    "- BLOOD COAGULATION\n",
    "- BPH (BENIGN PROSTATIC HYPERTROPHY)\n",
    "- CANCER DETOX AG, ANTI-NAUSEANTS\n",
    "- CORTICOSTEROIDS, PLAIN & COMBO\n",
    "- COUGH COLD, INCL FLU ANTIVIRALS\n",
    "- DERMATOLOGICS\n",
    "- DIAGNOSTIC EQUIP & ACCESSORIES & ALLERGEN TESTS\n",
    "- DIETETICS\n",
    "- EAR TREATMENTS&EYE-EAR COMBOS\n",
    "- ERECTILE DYSFUNCTION\n",
    "- ERYTHROPOIETINS\n",
    "- GENITO-URINARY ANTIBACTERIALS & ANTISEPTICS & ANTI\n",
    "- GI PRODUCTS\n",
    "- GROWTH HORMONES\n",
    "- HEMATOPOIETIC GROWTH FACTORS\n",
    "- HIV ANTIVIRALS\n",
    "- HORMONAL CONTRACEPTION, SYSTEMIC&TOPICAL\n",
    "- HOSPITAL SOLUTIONS\n",
    "- HYPOTHALAMIC HORMONES\n",
    "- IMAGING\n",
    "- IMMUNOLOGY\n",
    "- IMMUNOSUPPRESSANTS\n",
    "- INTERFERONS, EXCL MS MARKET\n",
    "- J07D6 TUBERCULOSIS VACCINES\n",
    "- LABOUR INDUCERS\n",
    "- LIPID REGULATORS\n",
    "- MENTAL HEALTH\n",
    "- MIOTICS+ANTIGLAUCOMA PREPS\n",
    "- MULTIPLE SCLEROSIS\n",
    "- NASAL PREPS, TOPICAL\n",
    "- NERVOUS SYSTEM DISORDERS\n",
    "- OCULAR ANTINEOVASCULARISATION\n",
    "- ONCOLOGICS\n",
    "- OPHTHALMOLOGY, GENERAL\n",
    "- OSTEOPOROSIS\n",
    "- OTHER ALIMENTARY TRACT AND METABOLISM PRODUCTS\n",
    "- OTHER CARDIOVASCULARS\n",
    "- OTHER CNS\n",
    "- OTHER HAEMATOLOGICALS\n",
    "- OTHER HORMONES\n",
    "- OTHER WOMEN'S HEALTH\n",
    "- PAIN\n",
    "- POLYVAL IMMUNOGLOBLULINS IV&IM\n",
    "- RESP ANTIVIRALS EX FLU\n",
    "- RESPIRATORY AGENTS\n",
    "- SEX HORMONES (ANDROGENS, OESTROGENS, PROGESTOGENS,\n",
    "- SPEC IMMUNOGLOBULINS & ANTITOXIC SERA\n",
    "- SYST ANTIFUNGALS\n",
    "- THROMBOPOIETIN AGONISTS\n",
    "- THYROID ANTI-THYROID AND IODINE PREPS\n",
    "- URINARY INCONTINENCE\n",
    "- VACCINES (PURE, COMB, OTHER)\n",
    "- VIRAL HEPATITIS\n",
    "- VITAMINS & MINERALS"
   ]
  },
  {
   "cell_type": "code",
   "execution_count": 156,
   "metadata": {},
   "outputs": [],
   "source": [
    "selected_class = 'ALLERGY, SYSTEMIC & NASAL'"
   ]
  },
  {
   "cell_type": "code",
   "execution_count": 162,
   "metadata": {
    "colab": {
     "base_uri": "https://localhost:8080/",
     "height": 343
    },
    "executionInfo": {
     "elapsed": 1841,
     "status": "ok",
     "timestamp": 1605733207373,
     "user": {
      "displayName": "Paul Doan",
      "photoUrl": "https://lh3.googleusercontent.com/a-/AOh14GjUvDKLyX84nt5fYAOuDGuUtYSLnTO1rDZS7vQDhg=s64",
      "userId": "09758343323255005129"
     },
     "user_tz": 300
    },
    "id": "KSN61Uz83Gtt",
    "outputId": "c48d8f54-c7ed-407b-b046-b44d11262acb"
   },
   "outputs": [
    {
     "data": {
      "text/html": [
       "<div>\n",
       "<style scoped>\n",
       "    .dataframe tbody tr th:only-of-type {\n",
       "        vertical-align: middle;\n",
       "    }\n",
       "\n",
       "    .dataframe tbody tr th {\n",
       "        vertical-align: top;\n",
       "    }\n",
       "\n",
       "    .dataframe thead th {\n",
       "        text-align: right;\n",
       "    }\n",
       "</style>\n",
       "<table border=\"1\" class=\"dataframe\">\n",
       "  <thead>\n",
       "    <tr style=\"text-align: right;\">\n",
       "      <th></th>\n",
       "      <th>NDC</th>\n",
       "      <th>Manufacturer</th>\n",
       "      <th>Product</th>\n",
       "      <th>Product Launch Date</th>\n",
       "      <th>Estimated LOE Date</th>\n",
       "      <th>Major Class</th>\n",
       "      <th>Acute/Chronic</th>\n",
       "      <th>Prod Form</th>\n",
       "      <th>Pack Size</th>\n",
       "      <th>Pack Quantity</th>\n",
       "      <th>Date</th>\n",
       "      <th>Year</th>\n",
       "      <th>Month</th>\n",
       "      <th>TRx</th>\n",
       "      <th>Previous_TRx</th>\n",
       "      <th>TRx_cumulative</th>\n",
       "      <th>WAC</th>\n",
       "      <th>Pct_change</th>\n",
       "      <th>Changed</th>\n",
       "    </tr>\n",
       "  </thead>\n",
       "  <tbody>\n",
       "    <tr>\n",
       "      <th>605</th>\n",
       "      <td>2322730</td>\n",
       "      <td>Eli Lilly and Co</td>\n",
       "      <td>STRATTERA 12/2002 LLY</td>\n",
       "      <td>12/1/2002 0:00</td>\n",
       "      <td>May-17</td>\n",
       "      <td>ADHD</td>\n",
       "      <td>CHRONIC</td>\n",
       "      <td>ORALS</td>\n",
       "      <td>1</td>\n",
       "      <td>30.0</td>\n",
       "      <td>2015-01-01</td>\n",
       "      <td>2015</td>\n",
       "      <td>1</td>\n",
       "      <td>11297</td>\n",
       "      <td>11566.0</td>\n",
       "      <td>11297.0</td>\n",
       "      <td>9.29</td>\n",
       "      <td>0.000000</td>\n",
       "      <td>0</td>\n",
       "    </tr>\n",
       "    <tr>\n",
       "      <th>606</th>\n",
       "      <td>2322730</td>\n",
       "      <td>Eli Lilly and Co</td>\n",
       "      <td>STRATTERA 12/2002 LLY</td>\n",
       "      <td>12/1/2002 0:00</td>\n",
       "      <td>May-17</td>\n",
       "      <td>ADHD</td>\n",
       "      <td>CHRONIC</td>\n",
       "      <td>ORALS</td>\n",
       "      <td>1</td>\n",
       "      <td>30.0</td>\n",
       "      <td>2015-02-01</td>\n",
       "      <td>2015</td>\n",
       "      <td>2</td>\n",
       "      <td>10622</td>\n",
       "      <td>11297.0</td>\n",
       "      <td>21919.0</td>\n",
       "      <td>9.29</td>\n",
       "      <td>0.000000</td>\n",
       "      <td>0</td>\n",
       "    </tr>\n",
       "    <tr>\n",
       "      <th>607</th>\n",
       "      <td>2322730</td>\n",
       "      <td>Eli Lilly and Co</td>\n",
       "      <td>STRATTERA 12/2002 LLY</td>\n",
       "      <td>12/1/2002 0:00</td>\n",
       "      <td>May-17</td>\n",
       "      <td>ADHD</td>\n",
       "      <td>CHRONIC</td>\n",
       "      <td>ORALS</td>\n",
       "      <td>1</td>\n",
       "      <td>30.0</td>\n",
       "      <td>2015-03-01</td>\n",
       "      <td>2015</td>\n",
       "      <td>3</td>\n",
       "      <td>12012</td>\n",
       "      <td>10622.0</td>\n",
       "      <td>33931.0</td>\n",
       "      <td>9.29</td>\n",
       "      <td>0.000000</td>\n",
       "      <td>0</td>\n",
       "    </tr>\n",
       "    <tr>\n",
       "      <th>608</th>\n",
       "      <td>2322730</td>\n",
       "      <td>Eli Lilly and Co</td>\n",
       "      <td>STRATTERA 12/2002 LLY</td>\n",
       "      <td>12/1/2002 0:00</td>\n",
       "      <td>May-17</td>\n",
       "      <td>ADHD</td>\n",
       "      <td>CHRONIC</td>\n",
       "      <td>ORALS</td>\n",
       "      <td>1</td>\n",
       "      <td>30.0</td>\n",
       "      <td>2015-04-01</td>\n",
       "      <td>2015</td>\n",
       "      <td>4</td>\n",
       "      <td>11520</td>\n",
       "      <td>12012.0</td>\n",
       "      <td>45451.0</td>\n",
       "      <td>9.29</td>\n",
       "      <td>0.000000</td>\n",
       "      <td>0</td>\n",
       "    </tr>\n",
       "    <tr>\n",
       "      <th>609</th>\n",
       "      <td>2322730</td>\n",
       "      <td>Eli Lilly and Co</td>\n",
       "      <td>STRATTERA 12/2002 LLY</td>\n",
       "      <td>12/1/2002 0:00</td>\n",
       "      <td>May-17</td>\n",
       "      <td>ADHD</td>\n",
       "      <td>CHRONIC</td>\n",
       "      <td>ORALS</td>\n",
       "      <td>1</td>\n",
       "      <td>30.0</td>\n",
       "      <td>2015-05-01</td>\n",
       "      <td>2015</td>\n",
       "      <td>5</td>\n",
       "      <td>10866</td>\n",
       "      <td>11520.0</td>\n",
       "      <td>56317.0</td>\n",
       "      <td>10.21</td>\n",
       "      <td>0.099031</td>\n",
       "      <td>1</td>\n",
       "    </tr>\n",
       "  </tbody>\n",
       "</table>\n",
       "</div>"
      ],
      "text/plain": [
       "         NDC      Manufacturer                Product Product Launch Date  \\\n",
       "605  2322730  Eli Lilly and Co  STRATTERA 12/2002 LLY      12/1/2002 0:00   \n",
       "606  2322730  Eli Lilly and Co  STRATTERA 12/2002 LLY      12/1/2002 0:00   \n",
       "607  2322730  Eli Lilly and Co  STRATTERA 12/2002 LLY      12/1/2002 0:00   \n",
       "608  2322730  Eli Lilly and Co  STRATTERA 12/2002 LLY      12/1/2002 0:00   \n",
       "609  2322730  Eli Lilly and Co  STRATTERA 12/2002 LLY      12/1/2002 0:00   \n",
       "\n",
       "    Estimated LOE Date Major Class Acute/Chronic Prod Form  Pack Size  \\\n",
       "605             May-17        ADHD       CHRONIC     ORALS          1   \n",
       "606             May-17        ADHD       CHRONIC     ORALS          1   \n",
       "607             May-17        ADHD       CHRONIC     ORALS          1   \n",
       "608             May-17        ADHD       CHRONIC     ORALS          1   \n",
       "609             May-17        ADHD       CHRONIC     ORALS          1   \n",
       "\n",
       "     Pack Quantity       Date  Year  Month    TRx  Previous_TRx  \\\n",
       "605           30.0 2015-01-01  2015      1  11297       11566.0   \n",
       "606           30.0 2015-02-01  2015      2  10622       11297.0   \n",
       "607           30.0 2015-03-01  2015      3  12012       10622.0   \n",
       "608           30.0 2015-04-01  2015      4  11520       12012.0   \n",
       "609           30.0 2015-05-01  2015      5  10866       11520.0   \n",
       "\n",
       "     TRx_cumulative    WAC  Pct_change  Changed  \n",
       "605         11297.0   9.29    0.000000        0  \n",
       "606         21919.0   9.29    0.000000        0  \n",
       "607         33931.0   9.29    0.000000        0  \n",
       "608         45451.0   9.29    0.000000        0  \n",
       "609         56317.0  10.21    0.099031        1  "
      ]
     },
     "execution_count": 162,
     "metadata": {},
     "output_type": "execute_result"
    }
   ],
   "source": [
    "# Loading dataset\n",
    "dataframe = pd.read_csv('../Processed_Data/drugs_pct_changes_monthly.csv')\n",
    "\n",
    "# Only NDCs that have full period\n",
    "last_period = dataframe[(dataframe.Year == 2020) & (dataframe.Month == 7)].NDC.unique()\n",
    "first_period = dataframe[(dataframe.Year == 2014) & (dataframe.Month == 8)].NDC.unique()\n",
    "dataframe.Date = pd.to_datetime(dataframe.Date, format='%Y_%m')\n",
    "selected_NDC = list(set(last_period).intersection(first_period)) \n",
    "dataframe = dataframe[dataframe.NDC.isin(selected_NDC)]\n",
    "\n",
    "# Fill in the pct change NA by 0 (first values)\n",
    "dataframe.Pct_change = dataframe.Pct_change.fillna(0)\n",
    "\n",
    "# Fill in the Previous_TRx NA by latest value (first values)\n",
    "dataframe.Previous_TRx = dataframe.Previous_TRx.fillna(method='ffill')\n",
    "\n",
    "# Dropping before 2015 because 2014 is not good\n",
    "dataframe = dataframe[dataframe.Date >= pd.to_datetime('2015-01-01')]\n",
    "\n",
    "# dropping COVID\n",
    "# dataframe = dataframe[dataframe.Date < pd.to_datetime('2020-01-01')]\n",
    "\n",
    "dataframe.head()"
   ]
  },
  {
   "cell_type": "code",
   "execution_count": 163,
   "metadata": {
    "executionInfo": {
     "elapsed": 735,
     "status": "ok",
     "timestamp": 1605733222712,
     "user": {
      "displayName": "Paul Doan",
      "photoUrl": "https://lh3.googleusercontent.com/a-/AOh14GjUvDKLyX84nt5fYAOuDGuUtYSLnTO1rDZS7vQDhg=s64",
      "userId": "09758343323255005129"
     },
     "user_tz": 300
    },
    "id": "hiCffDaX4ld9"
   },
   "outputs": [],
   "source": [
    "# # Getting rid of NDC that do not have LOE date\n",
    "# dataframe = dataframe[dataframe['Estimated LOE Date'] != 'Unspecified']\n",
    "\n",
    "# # Getting rid of NDC that are too close to their LOE date\n",
    "# dataframe['Estimated LOE Date'] = pd.to_datetime(dataframe['Estimated LOE Date'], format='%b-%y')\n",
    "# dataframe = dataframe[dataframe['Estimated LOE Date'] >= pd.to_datetime('2020-07-01')]"
   ]
  },
  {
   "cell_type": "code",
   "execution_count": 164,
   "metadata": {
    "colab": {
     "base_uri": "https://localhost:8080/",
     "height": 530
    },
    "executionInfo": {
     "elapsed": 643,
     "status": "ok",
     "timestamp": 1605734693500,
     "user": {
      "displayName": "Paul Doan",
      "photoUrl": "https://lh3.googleusercontent.com/a-/AOh14GjUvDKLyX84nt5fYAOuDGuUtYSLnTO1rDZS7vQDhg=s64",
      "userId": "09758343323255005129"
     },
     "user_tz": 300
    },
    "id": "FD4UowYPTFj4",
    "outputId": "80dd8e0a-0d94-4fa3-e9ef-ad997f9f5de8"
   },
   "outputs": [
    {
     "name": "stdout",
     "output_type": "stream",
     "text": [
      "Size:  335\n"
     ]
    },
    {
     "data": {
      "text/html": [
       "<div>\n",
       "<style scoped>\n",
       "    .dataframe tbody tr th:only-of-type {\n",
       "        vertical-align: middle;\n",
       "    }\n",
       "\n",
       "    .dataframe tbody tr th {\n",
       "        vertical-align: top;\n",
       "    }\n",
       "\n",
       "    .dataframe thead th {\n",
       "        text-align: right;\n",
       "    }\n",
       "</style>\n",
       "<table border=\"1\" class=\"dataframe\">\n",
       "  <thead>\n",
       "    <tr style=\"text-align: right;\">\n",
       "      <th></th>\n",
       "      <th>NDC</th>\n",
       "      <th>Manufacturer</th>\n",
       "      <th>Product</th>\n",
       "      <th>Product Launch Date</th>\n",
       "      <th>Estimated LOE Date</th>\n",
       "      <th>Major Class</th>\n",
       "      <th>Acute/Chronic</th>\n",
       "      <th>Prod Form</th>\n",
       "      <th>Pack Size</th>\n",
       "      <th>Pack Quantity</th>\n",
       "      <th>Date</th>\n",
       "      <th>Year</th>\n",
       "      <th>Month</th>\n",
       "      <th>TRx</th>\n",
       "      <th>Previous_TRx</th>\n",
       "      <th>TRx_cumulative</th>\n",
       "      <th>WAC</th>\n",
       "      <th>Pct_change</th>\n",
       "      <th>Changed</th>\n",
       "    </tr>\n",
       "  </thead>\n",
       "  <tbody>\n",
       "    <tr>\n",
       "      <th>54798</th>\n",
       "      <td>65033230</td>\n",
       "      <td>Alcon Laboratories Inc</td>\n",
       "      <td>PATANASE 05/2008 NSV</td>\n",
       "      <td>5/1/2008 0:00</td>\n",
       "      <td>Aug-23</td>\n",
       "      <td>ALLERGY, SYSTEMIC &amp; NASAL</td>\n",
       "      <td>ACUTE</td>\n",
       "      <td>NASAL</td>\n",
       "      <td>1</td>\n",
       "      <td>30.5</td>\n",
       "      <td>2015-01-01</td>\n",
       "      <td>2015</td>\n",
       "      <td>1</td>\n",
       "      <td>11034</td>\n",
       "      <td>14051.0</td>\n",
       "      <td>11034.0</td>\n",
       "      <td>8.22295</td>\n",
       "      <td>0.0</td>\n",
       "      <td>0</td>\n",
       "    </tr>\n",
       "    <tr>\n",
       "      <th>54799</th>\n",
       "      <td>65033230</td>\n",
       "      <td>Alcon Laboratories Inc</td>\n",
       "      <td>PATANASE 05/2008 NSV</td>\n",
       "      <td>5/1/2008 0:00</td>\n",
       "      <td>Aug-23</td>\n",
       "      <td>ALLERGY, SYSTEMIC &amp; NASAL</td>\n",
       "      <td>ACUTE</td>\n",
       "      <td>NASAL</td>\n",
       "      <td>1</td>\n",
       "      <td>30.5</td>\n",
       "      <td>2015-02-01</td>\n",
       "      <td>2015</td>\n",
       "      <td>2</td>\n",
       "      <td>9944</td>\n",
       "      <td>11034.0</td>\n",
       "      <td>20978.0</td>\n",
       "      <td>8.22295</td>\n",
       "      <td>0.0</td>\n",
       "      <td>0</td>\n",
       "    </tr>\n",
       "    <tr>\n",
       "      <th>54800</th>\n",
       "      <td>65033230</td>\n",
       "      <td>Alcon Laboratories Inc</td>\n",
       "      <td>PATANASE 05/2008 NSV</td>\n",
       "      <td>5/1/2008 0:00</td>\n",
       "      <td>Aug-23</td>\n",
       "      <td>ALLERGY, SYSTEMIC &amp; NASAL</td>\n",
       "      <td>ACUTE</td>\n",
       "      <td>NASAL</td>\n",
       "      <td>1</td>\n",
       "      <td>30.5</td>\n",
       "      <td>2015-03-01</td>\n",
       "      <td>2015</td>\n",
       "      <td>3</td>\n",
       "      <td>10596</td>\n",
       "      <td>9944.0</td>\n",
       "      <td>31574.0</td>\n",
       "      <td>8.22295</td>\n",
       "      <td>0.0</td>\n",
       "      <td>0</td>\n",
       "    </tr>\n",
       "    <tr>\n",
       "      <th>54801</th>\n",
       "      <td>65033230</td>\n",
       "      <td>Alcon Laboratories Inc</td>\n",
       "      <td>PATANASE 05/2008 NSV</td>\n",
       "      <td>5/1/2008 0:00</td>\n",
       "      <td>Aug-23</td>\n",
       "      <td>ALLERGY, SYSTEMIC &amp; NASAL</td>\n",
       "      <td>ACUTE</td>\n",
       "      <td>NASAL</td>\n",
       "      <td>1</td>\n",
       "      <td>30.5</td>\n",
       "      <td>2015-04-01</td>\n",
       "      <td>2015</td>\n",
       "      <td>4</td>\n",
       "      <td>10031</td>\n",
       "      <td>10596.0</td>\n",
       "      <td>41605.0</td>\n",
       "      <td>8.22295</td>\n",
       "      <td>0.0</td>\n",
       "      <td>0</td>\n",
       "    </tr>\n",
       "    <tr>\n",
       "      <th>54802</th>\n",
       "      <td>65033230</td>\n",
       "      <td>Alcon Laboratories Inc</td>\n",
       "      <td>PATANASE 05/2008 NSV</td>\n",
       "      <td>5/1/2008 0:00</td>\n",
       "      <td>Aug-23</td>\n",
       "      <td>ALLERGY, SYSTEMIC &amp; NASAL</td>\n",
       "      <td>ACUTE</td>\n",
       "      <td>NASAL</td>\n",
       "      <td>1</td>\n",
       "      <td>30.5</td>\n",
       "      <td>2015-05-01</td>\n",
       "      <td>2015</td>\n",
       "      <td>5</td>\n",
       "      <td>9016</td>\n",
       "      <td>10031.0</td>\n",
       "      <td>50621.0</td>\n",
       "      <td>8.22295</td>\n",
       "      <td>0.0</td>\n",
       "      <td>0</td>\n",
       "    </tr>\n",
       "  </tbody>\n",
       "</table>\n",
       "</div>"
      ],
      "text/plain": [
       "            NDC            Manufacturer               Product  \\\n",
       "54798  65033230  Alcon Laboratories Inc  PATANASE 05/2008 NSV   \n",
       "54799  65033230  Alcon Laboratories Inc  PATANASE 05/2008 NSV   \n",
       "54800  65033230  Alcon Laboratories Inc  PATANASE 05/2008 NSV   \n",
       "54801  65033230  Alcon Laboratories Inc  PATANASE 05/2008 NSV   \n",
       "54802  65033230  Alcon Laboratories Inc  PATANASE 05/2008 NSV   \n",
       "\n",
       "      Product Launch Date Estimated LOE Date                Major Class  \\\n",
       "54798       5/1/2008 0:00             Aug-23  ALLERGY, SYSTEMIC & NASAL   \n",
       "54799       5/1/2008 0:00             Aug-23  ALLERGY, SYSTEMIC & NASAL   \n",
       "54800       5/1/2008 0:00             Aug-23  ALLERGY, SYSTEMIC & NASAL   \n",
       "54801       5/1/2008 0:00             Aug-23  ALLERGY, SYSTEMIC & NASAL   \n",
       "54802       5/1/2008 0:00             Aug-23  ALLERGY, SYSTEMIC & NASAL   \n",
       "\n",
       "      Acute/Chronic Prod Form  Pack Size  Pack Quantity       Date  Year  \\\n",
       "54798         ACUTE     NASAL          1           30.5 2015-01-01  2015   \n",
       "54799         ACUTE     NASAL          1           30.5 2015-02-01  2015   \n",
       "54800         ACUTE     NASAL          1           30.5 2015-03-01  2015   \n",
       "54801         ACUTE     NASAL          1           30.5 2015-04-01  2015   \n",
       "54802         ACUTE     NASAL          1           30.5 2015-05-01  2015   \n",
       "\n",
       "       Month    TRx  Previous_TRx  TRx_cumulative      WAC  Pct_change  \\\n",
       "54798      1  11034       14051.0         11034.0  8.22295         0.0   \n",
       "54799      2   9944       11034.0         20978.0  8.22295         0.0   \n",
       "54800      3  10596        9944.0         31574.0  8.22295         0.0   \n",
       "54801      4  10031       10596.0         41605.0  8.22295         0.0   \n",
       "54802      5   9016       10031.0         50621.0  8.22295         0.0   \n",
       "\n",
       "       Changed  \n",
       "54798        0  \n",
       "54799        0  \n",
       "54800        0  \n",
       "54801        0  \n",
       "54802        0  "
      ]
     },
     "execution_count": 164,
     "metadata": {},
     "output_type": "execute_result"
    }
   ],
   "source": [
    "# Filtering for a single class\n",
    "data_class = dataframe[dataframe['Major Class'] == selected_class].copy()\n",
    "print('Size: ', len(data_class))\n",
    "data_class.head()\n"
   ]
  },
  {
   "cell_type": "code",
   "execution_count": 165,
   "metadata": {
    "colab": {
     "base_uri": "https://localhost:8080/",
     "height": 204
    },
    "executionInfo": {
     "elapsed": 328,
     "status": "ok",
     "timestamp": 1605734693766,
     "user": {
      "displayName": "Paul Doan",
      "photoUrl": "https://lh3.googleusercontent.com/a-/AOh14GjUvDKLyX84nt5fYAOuDGuUtYSLnTO1rDZS7vQDhg=s64",
      "userId": "09758343323255005129"
     },
     "user_tz": 300
    },
    "id": "zEPInKHNper6",
    "outputId": "d1f7673d-8461-46ec-8ff8-7ed4a5c2a645"
   },
   "outputs": [
    {
     "data": {
      "text/html": [
       "<div>\n",
       "<style scoped>\n",
       "    .dataframe tbody tr th:only-of-type {\n",
       "        vertical-align: middle;\n",
       "    }\n",
       "\n",
       "    .dataframe tbody tr th {\n",
       "        vertical-align: top;\n",
       "    }\n",
       "\n",
       "    .dataframe thead th {\n",
       "        text-align: right;\n",
       "    }\n",
       "</style>\n",
       "<table border=\"1\" class=\"dataframe\">\n",
       "  <thead>\n",
       "    <tr style=\"text-align: right;\">\n",
       "      <th></th>\n",
       "      <th>Date</th>\n",
       "      <th>Sales weighted WAC</th>\n",
       "    </tr>\n",
       "  </thead>\n",
       "  <tbody>\n",
       "    <tr>\n",
       "      <th>0</th>\n",
       "      <td>2015-01-01</td>\n",
       "      <td>7.134198</td>\n",
       "    </tr>\n",
       "    <tr>\n",
       "      <th>1</th>\n",
       "      <td>2015-02-01</td>\n",
       "      <td>7.122024</td>\n",
       "    </tr>\n",
       "    <tr>\n",
       "      <th>2</th>\n",
       "      <td>2015-03-01</td>\n",
       "      <td>7.050251</td>\n",
       "    </tr>\n",
       "    <tr>\n",
       "      <th>3</th>\n",
       "      <td>2015-04-01</td>\n",
       "      <td>7.060371</td>\n",
       "    </tr>\n",
       "    <tr>\n",
       "      <th>4</th>\n",
       "      <td>2015-05-01</td>\n",
       "      <td>6.999737</td>\n",
       "    </tr>\n",
       "  </tbody>\n",
       "</table>\n",
       "</div>"
      ],
      "text/plain": [
       "        Date  Sales weighted WAC\n",
       "0 2015-01-01            7.134198\n",
       "1 2015-02-01            7.122024\n",
       "2 2015-03-01            7.050251\n",
       "3 2015-04-01            7.060371\n",
       "4 2015-05-01            6.999737"
      ]
     },
     "execution_count": 165,
     "metadata": {},
     "output_type": "execute_result"
    }
   ],
   "source": [
    "# Helper function to compute the weighted WAC \n",
    "def weigthed_average(data, quantity, weights):\n",
    "    try:\n",
    "        return (data[quantity] * data[weights]).sum() / data[weights].sum()\n",
    "    except ZeroDivisionError:\n",
    "        return data[quantity]\n",
    "\n",
    "\n",
    "# Creating a sales column\n",
    "data_class['Sales'] = data_class['WAC'] * data_class['TRx']\n",
    "df = data_class.groupby('Date').apply(weigthed_average, 'WAC', 'Sales').to_frame(name = 'Sales weighted WAC')\n",
    "df.reset_index(inplace=True)\n",
    "df.head()"
   ]
  },
  {
   "cell_type": "code",
   "execution_count": 166,
   "metadata": {
    "colab": {
     "base_uri": "https://localhost:8080/",
     "height": 295
    },
    "executionInfo": {
     "elapsed": 707,
     "status": "ok",
     "timestamp": 1605734694619,
     "user": {
      "displayName": "Paul Doan",
      "photoUrl": "https://lh3.googleusercontent.com/a-/AOh14GjUvDKLyX84nt5fYAOuDGuUtYSLnTO1rDZS7vQDhg=s64",
      "userId": "09758343323255005129"
     },
     "user_tz": 300
    },
    "id": "fLEm5TuR8nvk",
    "outputId": "bb6497d1-fd35-4de2-a5b9-6cb85cf103fc"
   },
   "outputs": [
    {
     "data": {
      "image/png": "[encoded data removed]",
      "text/plain": [
       "<Figure size 432x288 with 1 Axes>"
      ]
     },
     "metadata": {
      "needs_background": "light"
     },
     "output_type": "display_data"
    }
   ],
   "source": [
    "sns.lineplot(x=df.Date, y=df['Sales weighted WAC'])\n",
    "plt.title(f'{selected_class} - Sales weighted WAC')\n",
    "plt.show()"
   ]
  },
  {
   "cell_type": "code",
   "execution_count": 167,
   "metadata": {
    "colab": {
     "base_uri": "https://localhost:8080/",
     "height": 312
    },
    "executionInfo": {
     "elapsed": 611,
     "status": "ok",
     "timestamp": 1605734694878,
     "user": {
      "displayName": "Paul Doan",
      "photoUrl": "https://lh3.googleusercontent.com/a-/AOh14GjUvDKLyX84nt5fYAOuDGuUtYSLnTO1rDZS7vQDhg=s64",
      "userId": "09758343323255005129"
     },
     "user_tz": 300
    },
    "id": "lutwM9u_KcOE",
    "outputId": "2735d721-0295-4032-d041-389833c3a4ef"
   },
   "outputs": [
    {
     "name": "stdout",
     "output_type": "stream",
     "text": [
      "Total number of drugs in this class:  5\n"
     ]
    },
    {
     "data": {
      "image/png": "[encoded data removed]",
      "text/plain": [
       "<Figure size 432x288 with 1 Axes>"
      ]
     },
     "metadata": {
      "needs_background": "light"
     },
     "output_type": "display_data"
    }
   ],
   "source": [
    "print('Total number of drugs in this class: ', data_class.NDC.nunique())\n",
    "\n",
    "data_class.groupby('NDC').WAC.mean().hist()\n",
    "plt.title('Distribution of WAC - outliers?')\n",
    "plt.xlabel('WAC')\n",
    "plt.ylabel('frequency')\n",
    "plt.show()"
   ]
  },
  {
   "cell_type": "markdown",
   "metadata": {
    "id": "eBhvVVj1-h5k"
   },
   "source": [
    "# Prophet Model"
   ]
  },
  {
   "cell_type": "code",
   "execution_count": 168,
   "metadata": {
    "executionInfo": {
     "elapsed": 771,
     "status": "ok",
     "timestamp": 1605734695939,
     "user": {
      "displayName": "Paul Doan",
      "photoUrl": "https://lh3.googleusercontent.com/a-/AOh14GjUvDKLyX84nt5fYAOuDGuUtYSLnTO1rDZS7vQDhg=s64",
      "userId": "09758343323255005129"
     },
     "user_tz": 300
    },
    "id": "JU2i70HTbdpv"
   },
   "outputs": [],
   "source": [
    "def prophet_model(data, test_date=None, prediction_period=365, changepoint_prior_scale=.05):\n",
    "\n",
    "    # Initiating test variable\n",
    "    test_set = None\n",
    "\n",
    "    # Reformating dataset for prophet\n",
    "    df_prophet = data[['Date', 'Sales weighted WAC']].copy()\n",
    "    df_prophet = df_prophet.rename(columns={'Date': 'ds', 'Sales weighted WAC': 'y'})\n",
    "\n",
    "    # Creating Prophet model\n",
    "    model = Prophet(changepoint_prior_scale=changepoint_prior_scale, daily_seasonality=False, weekly_seasonality=False, yearly_seasonality=True)\n",
    "\n",
    "    # Fitting model to training data excluding test dates\n",
    "    if test_date is not None:\n",
    "        model.fit(df_prophet[df_prophet.ds < pd.to_datetime(test_date)])\n",
    "    else:\n",
    "        model.fit(df_prophet)\n",
    "\n",
    "    # Building predictions for train and test dates\n",
    "    future = model.make_future_dataframe(periods=prediction_period, freq='MS')\n",
    "    forecast = model.predict(future)\n",
    "\n",
    "    # Ordering columns\n",
    "    forecast = forecast[['ds', 'yhat'] + [c for c in forecast if c not in ['ds', 'yhat']]]\n",
    "\n",
    "    # Creating test period dataset only\n",
    "    if test_date is not None:\n",
    "        forecast_test = model.predict(df_prophet)\n",
    "        forecast_test['y'] = data['Sales weighted WAC'].values\n",
    "        test_set = forecast_test[forecast_test.ds >= pd.to_datetime(test_date)][['ds', 'y', 'yhat']].copy()\n",
    "        \n",
    "    # Return model (for plotting), full forecast, and test period dataset\n",
    "    return model, forecast, test_set"
   ]
  },
  {
   "cell_type": "code",
   "execution_count": 172,
   "metadata": {
    "colab": {
     "base_uri": "https://localhost:8080/",
     "height": 1000
    },
    "executionInfo": {
     "elapsed": 5767,
     "status": "ok",
     "timestamp": 1605734712324,
     "user": {
      "displayName": "Paul Doan",
      "photoUrl": "https://lh3.googleusercontent.com/a-/AOh14GjUvDKLyX84nt5fYAOuDGuUtYSLnTO1rDZS7vQDhg=s64",
      "userId": "09758343323255005129"
     },
     "user_tz": 300
    },
    "id": "x2u6Jpyx-qkL",
    "outputId": "467ad8ff-1e30-439c-ab24-de5b1eba420c"
   },
   "outputs": [
    {
     "data": {
      "image/png": "[encoded data removed]",
      "text/plain": [
       "<Figure size 720x432 with 1 Axes>"
      ]
     },
     "metadata": {
      "needs_background": "light"
     },
     "output_type": "display_data"
    },
    {
     "data": {
      "image/png": "[encoded data removed]",
      "text/plain": [
       "<Figure size 720x648 with 2 Axes>"
      ]
     },
     "metadata": {},
     "output_type": "display_data"
    }
   ],
   "source": [
    "model, forecast, test_set = prophet_model(data=df, test_date=None, prediction_period=29, changepoint_prior_scale=.05)\n",
    "\n",
    "# plotting results\n",
    "fig, ax = plt.subplots(figsize=(10, 6))\n",
    "model.plot(forecast, ax=ax);\n",
    "if test_set is not None:\n",
    "    sns.scatterplot(x= test_set.ds, y=test_set.y, color='orange', label='test')\n",
    "    plt.legend()\n",
    "    print('MAE on test period: ', mean_absolute_error(test_set.y, test_set.yhat))\n",
    "\n",
    "plt.xlabel('Date')\n",
    "plt.ylabel('WAC')\n",
    "plt.show()\n",
    "\n",
    "\n",
    "# plotting components\n",
    "model.plot_components(forecast, figsize=(10, 9))\n",
    "plt.show()\n"
   ]
  },
  {
   "cell_type": "code",
   "execution_count": 173,
   "metadata": {
    "executionInfo": {
     "elapsed": 5168,
     "status": "ok",
     "timestamp": 1605734702063,
     "user": {
      "displayName": "Paul Doan",
      "photoUrl": "https://lh3.googleusercontent.com/a-/AOh14GjUvDKLyX84nt5fYAOuDGuUtYSLnTO1rDZS7vQDhg=s64",
      "userId": "09758343323255005129"
     },
     "user_tz": 300
    },
    "id": "84zzQdF--elC"
   },
   "outputs": [],
   "source": [
    "forecast = forecast.rename(columns={'ds': 'date'})\n",
    "forecast.to_csv(f'Results/Method 2/{selected_class}.csv', index=False)"
   ]
  },
  {
   "cell_type": "code",
   "execution_count": null,
   "metadata": {
    "id": "7qSBnVNd-e6b"
   },
   "outputs": [],
   "source": []
  }
 ],
 "metadata": {
  "colab": {
   "authorship_tag": "ABX9TyNxvXF9gwebDQXBQmUjJEOf",
   "collapsed_sections": [
    "Q-OQTCNG_ihY"
   ],
   "mount_file_id": "1Ks2jiR37V77x5Yjb6CVi9nchdbKD6TOb",
   "name": "Prophet_Paul.ipynb",
   "provenance": [],
   "toc_visible": true
  },
  "kernelspec": {
   "display_name": "Python 3",
   "language": "python",
   "name": "python3"
  },
  "language_info": {
   "codemirror_mode": {
    "name": "ipython",
    "version": 3
   },
   "file_extension": ".py",
   "mimetype": "text/x-python",
   "name": "python",
   "nbconvert_exporter": "python",
   "pygments_lexer": "ipython3",
   "version": "3.8.5"
  }
 },
 "nbformat": 4,
 "nbformat_minor": 4
}
