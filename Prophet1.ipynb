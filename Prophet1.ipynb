{
 "cells": [
  {
   "cell_type": "code",
   "execution_count": 2,
   "metadata": {},
   "outputs": [],
   "source": [
    "import numpy as np\n",
    "import pandas as pd\n",
    "from fbprophet import Prophet\n",
    "import matplotlib.pyplot as plt\n",
    "import warnings\n",
    "warnings.filterwarnings('ignore')\n",
    "from collections import Counter\n",
    "import math  "
   ]
  },
  {
   "cell_type": "markdown",
   "metadata": {},
   "source": [
    "# Feature Engineering"
   ]
  },
  {
   "cell_type": "code",
   "execution_count": 15,
   "metadata": {},
   "outputs": [],
   "source": [
    "df = pd.read_csv('monthly_2014_8_2020_7_4k_drugs.csv')\n",
    "def fun(row):\n",
    "    return str(row['Year'])+'-' + str(row['Month'])\n",
    "df['Date'] = df.apply(lambda x:fun(x),axis = 1)\n",
    "df.Date = pd.to_datetime(df.Date)\n",
    "df.sort_values(['Date'],inplace = True)"
   ]
  },
  {
   "cell_type": "markdown",
   "metadata": {},
   "source": [
    "# Filter\n",
    "1. Drugs have WAC data from 2014.8 to 2020.7\n",
    "2. Drugs have TRx data from 2014.8 to 2020.7\n",
    "3. Drop duplicates (one NDC corresponding to two manufacturers)"
   ]
  },
  {
   "cell_type": "code",
   "execution_count": 16,
   "metadata": {},
   "outputs": [],
   "source": [
    "## Filter two\n",
    "df.dropna(subset=['TRx'],inplace = True)\n",
    "## Filter one\n",
    "list1 = df[(df.Year == 2020) & (df.Month == 7)].NDC.unique()\n",
    "list2 = df[(df.Year == 2014) & (df.Month == 8)].NDC.unique()\n",
    "selected_NDC = list(set(list1).intersection(list2)) \n",
    "df = df[df.NDC.isin(selected_NDC)]"
   ]
  },
  {
   "cell_type": "code",
   "execution_count": 17,
   "metadata": {},
   "outputs": [],
   "source": [
    "## Drop duplicates\n",
    "df = df[~df.duplicated()]\n",
    "df.drop_duplicates(subset=df.columns.difference(['Manufacturer']),inplace = True)"
   ]
  },
  {
   "cell_type": "markdown",
   "metadata": {},
   "source": [
    "# Modeling"
   ]
  },
  {
   "cell_type": "code",
   "execution_count": 18,
   "metadata": {},
   "outputs": [],
   "source": [
    "def predict_pct_month(df):\n",
    "        date = max(df.ds)\n",
    "        prophet = Prophet(changepoint_prior_scale=0.05, daily_seasonality=False,weekly_seasonality=False,yearly_seasonality=True)\n",
    "        prophet.fit(df)\n",
    "        build_forecast = prophet.make_future_dataframe(periods=12, freq='M')\n",
    "        forecast = prophet.predict(build_forecast)\n",
    "        forecast = forecast[forecast.ds>=date]\n",
    "        forecast.reset_index(inplace = True)\n",
    "        forecast['pct_change'] = forecast.yhat.apply(lambda x:(x-df.iloc[-1].y)/df.iloc[-1].y)\n",
    "        ##month_ = forecast.iloc[forecast['pct_change'].idxmax()].ds.month\n",
    "        previous_year = df[df.ds>= '2019-08-01']\n",
    "        previous_year.reset_index(inplace = True)\n",
    "        previous_year['pct_change'] = previous_year.y.pct_change()\n",
    "        ## Use this year's change point as prediction for next year\n",
    "        ## If this year the drug price does not increase, go back to previous year\n",
    "        if previous_year['pct_change'].mean() == 0:\n",
    "            previous_year = df[df.ds>= '2018-08-01']\n",
    "            previous_year.reset_index(inplace = True)\n",
    "            previous_year['pct_change'] = previous_year.y.pct_change()\n",
    "            month_ = previous_year.iloc[previous_year['pct_change'].idxmax()].ds.month\n",
    "        else:\n",
    "            month_ = previous_year.iloc[previous_year['pct_change'].idxmax()].ds.month\n",
    "        pct_ = forecast[forecast['pct_change']>0.01]['pct_change'].mean() ## Take average pct_change to filter out fluctuations\n",
    "        if math.isnan(pct_):\n",
    "            pct_ = 0\n",
    "        return month_,pct_\n",
    "   "
   ]
  },
  {
   "cell_type": "code",
   "execution_count": 19,
   "metadata": {},
   "outputs": [],
   "source": [
    "def pipe(df):\n",
    "    res = []\n",
    "    for NDC in df.NDC.unique():\n",
    "        try:\n",
    "            temp = df[df.NDC == NDC][['Date','WAC']]\n",
    "            temp.columns = ['ds','y']\n",
    "            a,b = predict_pct_month(temp)\n",
    "            res.append([NDC,a,b])\n",
    "        except:\n",
    "            print(NDC)\n",
    "    return res\n",
    "            "
   ]
  },
  {
   "cell_type": "code",
   "execution_count": 24,
   "metadata": {},
   "outputs": [
    {
     "name": "stderr",
     "output_type": "stream",
     "text": [
      "INFO:fbprophet:n_changepoints greater than number of observations. Using 12.\n"
     ]
    },
    {
     "name": "stdout",
     "output_type": "stream",
     "text": [
      "61570011001\n"
     ]
    }
   ],
   "source": [
    "res = pipe(df)"
   ]
  },
  {
   "cell_type": "code",
   "execution_count": 25,
   "metadata": {},
   "outputs": [],
   "source": [
    "res = pd.DataFrame(res,columns=['NDC','pred_change_month','pred_change_rate'])\n",
    "res = res.merge(df[['NDC','Major Class','Manufacturer']], left_on='NDC', right_on='NDC', how='left')\n",
    "res = res[~res.duplicated()]"
   ]
  },
  {
   "cell_type": "code",
   "execution_count": 7,
   "metadata": {},
   "outputs": [],
   "source": [
    "res.to_csv('pred_results_drug_level_analysis.csv')"
   ]
  },
  {
   "cell_type": "markdown",
   "metadata": {},
   "source": [
    "# Aggregate on class"
   ]
  },
  {
   "cell_type": "code",
   "execution_count": 4,
   "metadata": {},
   "outputs": [],
   "source": [
    "res.groupby('Major Class').mean().to_csv('1.csv')"
   ]
  },
  {
   "cell_type": "code",
   "execution_count": 5,
   "metadata": {},
   "outputs": [],
   "source": [
    "res.groupby('Major Class')['pred_change_month'].agg(pd.Series.mode).reset_index().to_csv('2.csv')"
   ]
  },
  {
   "cell_type": "code",
   "execution_count": null,
   "metadata": {},
   "outputs": [],
   "source": []
  }
 ],
 "metadata": {
  "kernelspec": {
   "display_name": "Python 3",
   "language": "python",
   "name": "python3"
  },
  "language_info": {
   "codemirror_mode": {
    "name": "ipython",
    "version": 3
   },
   "file_extension": ".py",
   "mimetype": "text/x-python",
   "name": "python",
   "nbconvert_exporter": "python",
   "pygments_lexer": "ipython3",
   "version": "3.7.4"
  }
 },
 "nbformat": 4,
 "nbformat_minor": 2
}
