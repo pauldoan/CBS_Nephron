{
 "cells": [
  {
   "cell_type": "markdown",
   "metadata": {},
   "source": [
    "# Computing percent changes for each drug per month"
   ]
  },
  {
   "cell_type": "code",
   "execution_count": 1,
   "metadata": {},
   "outputs": [],
   "source": [
    "# Importing basic libraries\n",
    "import pandas as pd\n",
    "import numpy as np\n",
    "import time\n",
    "import datetime\n",
    "\n",
    "# Plotting libraries\n",
    "import matplotlib.pyplot as plt\n",
    "%matplotlib inline\n",
    "import seaborn as sns\n",
    "sns.set(rc={'figure.figsize':(12,10)})\n",
    "# sns.set_style('white')\n",
    "plt.style.use('fivethirtyeight')\n",
    "from tqdm import tqdm\n"
   ]
  },
  {
   "cell_type": "markdown",
   "metadata": {},
   "source": [
    "### Data"
   ]
  },
  {
   "cell_type": "code",
   "execution_count": 5,
   "metadata": {},
   "outputs": [
    {
     "data": {
      "text/html": [
       "<div>\n",
       "<style scoped>\n",
       "    .dataframe tbody tr th:only-of-type {\n",
       "        vertical-align: middle;\n",
       "    }\n",
       "\n",
       "    .dataframe tbody tr th {\n",
       "        vertical-align: top;\n",
       "    }\n",
       "\n",
       "    .dataframe thead th {\n",
       "        text-align: right;\n",
       "    }\n",
       "</style>\n",
       "<table border=\"1\" class=\"dataframe\">\n",
       "  <thead>\n",
       "    <tr style=\"text-align: right;\">\n",
       "      <th></th>\n",
       "      <th>NDC</th>\n",
       "      <th>Product</th>\n",
       "      <th>Major Class</th>\n",
       "      <th>Acute/Chronic</th>\n",
       "      <th>Prod Form</th>\n",
       "      <th>WAC</th>\n",
       "      <th>Month</th>\n",
       "      <th>Year</th>\n",
       "      <th>TRx</th>\n",
       "      <th>Date</th>\n",
       "    </tr>\n",
       "  </thead>\n",
       "  <tbody>\n",
       "    <tr>\n",
       "      <th>0</th>\n",
       "      <td>2143301</td>\n",
       "      <td>TRULICITY 10/2014 LLY</td>\n",
       "      <td>ANTIDIABETICS</td>\n",
       "      <td>CHRONIC</td>\n",
       "      <td>INJECTABLES</td>\n",
       "      <td>338.0</td>\n",
       "      <td>12</td>\n",
       "      <td>2017</td>\n",
       "      <td>240</td>\n",
       "      <td>2017_12</td>\n",
       "    </tr>\n",
       "    <tr>\n",
       "      <th>1</th>\n",
       "      <td>2143301</td>\n",
       "      <td>TRULICITY 10/2014 LLY</td>\n",
       "      <td>ANTIDIABETICS</td>\n",
       "      <td>CHRONIC</td>\n",
       "      <td>INJECTABLES</td>\n",
       "      <td>338.0</td>\n",
       "      <td>11</td>\n",
       "      <td>2017</td>\n",
       "      <td>258</td>\n",
       "      <td>2017_11</td>\n",
       "    </tr>\n",
       "    <tr>\n",
       "      <th>2</th>\n",
       "      <td>2143301</td>\n",
       "      <td>TRULICITY 10/2014 LLY</td>\n",
       "      <td>ANTIDIABETICS</td>\n",
       "      <td>CHRONIC</td>\n",
       "      <td>INJECTABLES</td>\n",
       "      <td>338.0</td>\n",
       "      <td>10</td>\n",
       "      <td>2017</td>\n",
       "      <td>175</td>\n",
       "      <td>2017_10</td>\n",
       "    </tr>\n",
       "    <tr>\n",
       "      <th>3</th>\n",
       "      <td>2143301</td>\n",
       "      <td>TRULICITY 10/2014 LLY</td>\n",
       "      <td>ANTIDIABETICS</td>\n",
       "      <td>CHRONIC</td>\n",
       "      <td>INJECTABLES</td>\n",
       "      <td>338.0</td>\n",
       "      <td>9</td>\n",
       "      <td>2017</td>\n",
       "      <td>190</td>\n",
       "      <td>2017_09</td>\n",
       "    </tr>\n",
       "    <tr>\n",
       "      <th>4</th>\n",
       "      <td>2143301</td>\n",
       "      <td>TRULICITY 10/2014 LLY</td>\n",
       "      <td>ANTIDIABETICS</td>\n",
       "      <td>CHRONIC</td>\n",
       "      <td>INJECTABLES</td>\n",
       "      <td>338.0</td>\n",
       "      <td>8</td>\n",
       "      <td>2017</td>\n",
       "      <td>176</td>\n",
       "      <td>2017_08</td>\n",
       "    </tr>\n",
       "  </tbody>\n",
       "</table>\n",
       "</div>"
      ],
      "text/plain": [
       "       NDC                Product    Major Class Acute/Chronic    Prod Form  \\\n",
       "0  2143301  TRULICITY 10/2014 LLY  ANTIDIABETICS       CHRONIC  INJECTABLES   \n",
       "1  2143301  TRULICITY 10/2014 LLY  ANTIDIABETICS       CHRONIC  INJECTABLES   \n",
       "2  2143301  TRULICITY 10/2014 LLY  ANTIDIABETICS       CHRONIC  INJECTABLES   \n",
       "3  2143301  TRULICITY 10/2014 LLY  ANTIDIABETICS       CHRONIC  INJECTABLES   \n",
       "4  2143301  TRULICITY 10/2014 LLY  ANTIDIABETICS       CHRONIC  INJECTABLES   \n",
       "\n",
       "     WAC  Month  Year  TRx     Date  \n",
       "0  338.0     12  2017  240  2017_12  \n",
       "1  338.0     11  2017  258  2017_11  \n",
       "2  338.0     10  2017  175  2017_10  \n",
       "3  338.0      9  2017  190  2017_09  \n",
       "4  338.0      8  2017  176  2017_08  "
      ]
     },
     "execution_count": 5,
     "metadata": {},
     "output_type": "execute_result"
    }
   ],
   "source": [
    "df = pd.read_csv('../Processed_Data/merge_with_iqvia_2017_01_2020_09_monthly.csv')\n",
    "df = df[['NDC', 'Product','Major Class', 'Acute/Chronic', 'Prod Form', 'WAC', 'Month', 'Year', 'TRx']]\n",
    "df = df.dropna(subset=['WAC'])\n",
    "df['Date'] = df.Year.astype(str) + '_' + df.Month.astype(str).apply(lambda x: '0' + x if int(x)<10 else x)\n",
    "df.head()"
   ]
  },
  {
   "cell_type": "code",
   "execution_count": 9,
   "metadata": {},
   "outputs": [
    {
     "name": "stderr",
     "output_type": "stream",
     "text": [
      "  0%|          | 0/1491 [00:00<?, ?it/s]<ipython-input-9-8b558825011c>:7: SettingWithCopyWarning: \n",
      "A value is trying to be set on a copy of a slice from a DataFrame.\n",
      "Try using .loc[row_indexer,col_indexer] = value instead\n",
      "\n",
      "See the caveats in the documentation: https://pandas.pydata.org/pandas-docs/stable/user_guide/indexing.html#returning-a-view-versus-a-copy\n",
      "  df_temp['Pct_change'] = df_temp.WAC.pct_change()\n",
      "100%|██████████| 1491/1491 [00:20<00:00, 72.63it/s]\n"
     ]
    },
    {
     "data": {
      "text/html": [
       "<div>\n",
       "<style scoped>\n",
       "    .dataframe tbody tr th:only-of-type {\n",
       "        vertical-align: middle;\n",
       "    }\n",
       "\n",
       "    .dataframe tbody tr th {\n",
       "        vertical-align: top;\n",
       "    }\n",
       "\n",
       "    .dataframe thead th {\n",
       "        text-align: right;\n",
       "    }\n",
       "</style>\n",
       "<table border=\"1\" class=\"dataframe\">\n",
       "  <thead>\n",
       "    <tr style=\"text-align: right;\">\n",
       "      <th></th>\n",
       "      <th>NDC</th>\n",
       "      <th>Product</th>\n",
       "      <th>Major Class</th>\n",
       "      <th>Acute/Chronic</th>\n",
       "      <th>Prod Form</th>\n",
       "      <th>WAC</th>\n",
       "      <th>Month</th>\n",
       "      <th>Year</th>\n",
       "      <th>TRx</th>\n",
       "      <th>Date</th>\n",
       "      <th>Pct_change</th>\n",
       "    </tr>\n",
       "  </thead>\n",
       "  <tbody>\n",
       "    <tr>\n",
       "      <th>0</th>\n",
       "      <td>187065142</td>\n",
       "      <td>8-MOP 01/1991 B.U</td>\n",
       "      <td>DERMATOLOGICS</td>\n",
       "      <td>ACUTE</td>\n",
       "      <td>ORALS</td>\n",
       "      <td>29.5008</td>\n",
       "      <td>1</td>\n",
       "      <td>2017</td>\n",
       "      <td>0</td>\n",
       "      <td>2017_01</td>\n",
       "      <td>NaN</td>\n",
       "    </tr>\n",
       "    <tr>\n",
       "      <th>1</th>\n",
       "      <td>187065142</td>\n",
       "      <td>8-MOP 01/1991 B.U</td>\n",
       "      <td>DERMATOLOGICS</td>\n",
       "      <td>ACUTE</td>\n",
       "      <td>ORALS</td>\n",
       "      <td>29.5008</td>\n",
       "      <td>2</td>\n",
       "      <td>2017</td>\n",
       "      <td>2</td>\n",
       "      <td>2017_02</td>\n",
       "      <td>0.0</td>\n",
       "    </tr>\n",
       "    <tr>\n",
       "      <th>2</th>\n",
       "      <td>187065142</td>\n",
       "      <td>8-MOP 01/1991 B.U</td>\n",
       "      <td>DERMATOLOGICS</td>\n",
       "      <td>ACUTE</td>\n",
       "      <td>ORALS</td>\n",
       "      <td>29.5008</td>\n",
       "      <td>3</td>\n",
       "      <td>2017</td>\n",
       "      <td>0</td>\n",
       "      <td>2017_03</td>\n",
       "      <td>0.0</td>\n",
       "    </tr>\n",
       "    <tr>\n",
       "      <th>3</th>\n",
       "      <td>187065142</td>\n",
       "      <td>8-MOP 01/1991 B.U</td>\n",
       "      <td>DERMATOLOGICS</td>\n",
       "      <td>ACUTE</td>\n",
       "      <td>ORALS</td>\n",
       "      <td>29.5008</td>\n",
       "      <td>4</td>\n",
       "      <td>2017</td>\n",
       "      <td>0</td>\n",
       "      <td>2017_04</td>\n",
       "      <td>0.0</td>\n",
       "    </tr>\n",
       "    <tr>\n",
       "      <th>4</th>\n",
       "      <td>187065142</td>\n",
       "      <td>8-MOP 01/1991 B.U</td>\n",
       "      <td>DERMATOLOGICS</td>\n",
       "      <td>ACUTE</td>\n",
       "      <td>ORALS</td>\n",
       "      <td>29.5008</td>\n",
       "      <td>5</td>\n",
       "      <td>2017</td>\n",
       "      <td>0</td>\n",
       "      <td>2017_05</td>\n",
       "      <td>0.0</td>\n",
       "    </tr>\n",
       "  </tbody>\n",
       "</table>\n",
       "</div>"
      ],
      "text/plain": [
       "         NDC            Product    Major Class Acute/Chronic Prod Form  \\\n",
       "0  187065142  8-MOP 01/1991 B.U  DERMATOLOGICS         ACUTE     ORALS   \n",
       "1  187065142  8-MOP 01/1991 B.U  DERMATOLOGICS         ACUTE     ORALS   \n",
       "2  187065142  8-MOP 01/1991 B.U  DERMATOLOGICS         ACUTE     ORALS   \n",
       "3  187065142  8-MOP 01/1991 B.U  DERMATOLOGICS         ACUTE     ORALS   \n",
       "4  187065142  8-MOP 01/1991 B.U  DERMATOLOGICS         ACUTE     ORALS   \n",
       "\n",
       "       WAC Month  Year TRx     Date  Pct_change  \n",
       "0  29.5008     1  2017   0  2017_01         NaN  \n",
       "1  29.5008     2  2017   2  2017_02         0.0  \n",
       "2  29.5008     3  2017   0  2017_03         0.0  \n",
       "3  29.5008     4  2017   0  2017_04         0.0  \n",
       "4  29.5008     5  2017   0  2017_05         0.0  "
      ]
     },
     "execution_count": 9,
     "metadata": {},
     "output_type": "execute_result"
    }
   ],
   "source": [
    "df_unique = df.drop_duplicates(subset=['Product', 'Month', 'Year']).sort_values(['Product', 'Date']).reset_index(drop=True)\n",
    "\n",
    "drugs = df_unique.Product.unique()\n",
    "df_pct = pd.DataFrame(columns=df_unique.columns)\n",
    "for drug in tqdm(drugs):\n",
    "    df_temp = df_unique[df_unique.Product == drug]\n",
    "    df_temp['Pct_change'] = df_temp.WAC.pct_change()\n",
    "    df_pct = pd.concat((df_pct, df_temp))\n",
    "    \n",
    "df_pct.head()"
   ]
  },
  {
   "cell_type": "code",
   "execution_count": 10,
   "metadata": {},
   "outputs": [],
   "source": [
    "# df_pct.to_csv('drugs_pct_changes_TRX_monthly.csv', index=False)"
   ]
  },
  {
   "cell_type": "markdown",
   "metadata": {},
   "source": [
    "### Percent changes"
   ]
  },
  {
   "cell_type": "code",
   "execution_count": null,
   "metadata": {},
   "outputs": [],
   "source": [
    "# Pivoting to get prices per date\n",
    "df_pivot = df.pivot_table(values=['WAC'], index=['NDC', 'Product', 'Major Class', 'Acute/Chronic', 'Prod Form'], columns='date')\n",
    "df_pivot.columns = df_pivot.columns.droplevel(0)\n",
    "df_pivot = df_pivot.rename_axis(None, axis=1)\n",
    "df_pivot = df_pivot.reset_index()\n",
    "df_pivot.head()"
   ]
  },
  {
   "cell_type": "code",
   "execution_count": null,
   "metadata": {},
   "outputs": [],
   "source": [
    "# Computing percent changes between two consecutive months  \n",
    "percent_changes = df_pivot[['NDC', 'Product', 'Major Class', 'Acute/Chronic', 'Prod Form']]\n",
    "prices = df_pivot.drop(labels=percent_changes.columns, axis=1)\n",
    "\n",
    "for i in range(len(prices.columns) - 1):\n",
    "    pct_change = (prices.iloc[:, i+1] - prices.iloc[:, i]) / prices.iloc[:, i]\n",
    "    percent_changes[f'{prices.iloc[:, i+1].name}'] = pct_change\n",
    "    \n",
    "percent_changes.head()"
   ]
  },
  {
   "cell_type": "code",
   "execution_count": null,
   "metadata": {},
   "outputs": [],
   "source": [
    "# Correcting the different NDC for unique product\n",
    "percent_changes = pd.merge(percent_changes.groupby(['Product']).mean().reset_index().drop('NDC', axis=1), \n",
    "                           percent_changes[['NDC', 'Product', 'Major Class', 'Acute/Chronic', 'Prod Form']].drop_duplicates(subset='Product'),\n",
    "                           left_on='Product', right_on='Product', how='left')\n",
    "percent_changes = percent_changes[['NDC', 'Product', 'Major Class', 'Acute/Chronic', 'Prod Form'] + list(percent_changes.columns[1: 43])]\n",
    "percent_changes.head()"
   ]
  },
  {
   "cell_type": "code",
   "execution_count": null,
   "metadata": {},
   "outputs": [],
   "source": [
    "# percent_changes.to_csv('drugs_pct_changes_monthly.csv', index=False)"
   ]
  },
  {
   "cell_type": "markdown",
   "metadata": {},
   "source": [
    "### Creating boolean for positive pct changes"
   ]
  },
  {
   "cell_type": "code",
   "execution_count": null,
   "metadata": {},
   "outputs": [],
   "source": [
    "bool_changes = percent_changes\n",
    "for column in range(5, percent_changes.shape[1]):\n",
    "    bool_changes.iloc[:, column] = bool_changes.iloc[:, column].apply(lambda x: 1 if x > 0 else 0)\n",
    "    \n",
    "bool_changes.head()"
   ]
  },
  {
   "cell_type": "code",
   "execution_count": null,
   "metadata": {},
   "outputs": [],
   "source": [
    "# bool_changes.to_csv('drugs_bool_changes_monthly.csv', index=False)"
   ]
  },
  {
   "cell_type": "code",
   "execution_count": null,
   "metadata": {},
   "outputs": [],
   "source": []
  }
 ],
 "metadata": {
  "kernelspec": {
   "display_name": "Python 3",
   "language": "python",
   "name": "python3"
  },
  "language_info": {
   "codemirror_mode": {
    "name": "ipython",
    "version": 3
   },
   "file_extension": ".py",
   "mimetype": "text/x-python",
   "name": "python",
   "nbconvert_exporter": "python",
   "pygments_lexer": "ipython3",
   "version": "3.8.5"
  }
 },
 "nbformat": 4,
 "nbformat_minor": 4
}
