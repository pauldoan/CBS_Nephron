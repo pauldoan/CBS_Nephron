{
 "cells": [
  {
   "cell_type": "markdown",
   "metadata": {},
   "source": [
    "# Predict price changes using a classifier"
   ]
  },
  {
   "cell_type": "markdown",
   "metadata": {},
   "source": [
    "We are here building a classifier that predict if the price of a drug will change based on:\n",
    "- the month in the year\n",
    "- the class of drug\n",
    "- whether the drug is for acute or chronic disease\n",
    "- the product form\n",
    "- the volume sold in the year so far (to be done)\n",
    "- Whether or not we are in the Covid period (to be done)"
   ]
  },
  {
   "cell_type": "code",
   "execution_count": 2,
   "metadata": {},
   "outputs": [
    {
     "name": "stderr",
     "output_type": "stream",
     "text": [
      "/Library/Frameworks/Python.framework/Versions/3.8/lib/python3.8/site-packages/tqdm/std.py:706: FutureWarning: The Panel class is removed from pandas. Accessing it from the top-level namespace will also be removed in the next version\n",
      "  from pandas import Panel\n"
     ]
    }
   ],
   "source": [
    "# Importing basic libraries\n",
    "import pandas as pd\n",
    "import numpy as np\n",
    "import time\n",
    "import datetime\n",
    "\n",
    "# Plotting libraries\n",
    "import matplotlib.pyplot as plt\n",
    "%matplotlib inline\n",
    "import seaborn as sns\n",
    "sns.set(rc={'figure.figsize':(12,10)})\n",
    "# sns.set_style('white')\n",
    "plt.style.use('fivethirtyeight')\n",
    "from tqdm import tqdm\n",
    "tqdm.pandas()\n",
    "\n",
    "# Machine Learning\n",
    "from sklearn.model_selection import train_test_split\n",
    "from sklearn.linear_model import LogisticRegression\n",
    "from sklearn.naive_bayes import GaussianNB\n",
    "from sklearn.ensemble import RandomForestClassifier\n",
    "\n",
    "from sklearn.metrics import confusion_matrix"
   ]
  },
  {
   "cell_type": "code",
   "execution_count": 34,
   "metadata": {},
   "outputs": [
    {
     "data": {
      "text/html": [
       "<div>\n",
       "<style scoped>\n",
       "    .dataframe tbody tr th:only-of-type {\n",
       "        vertical-align: middle;\n",
       "    }\n",
       "\n",
       "    .dataframe tbody tr th {\n",
       "        vertical-align: top;\n",
       "    }\n",
       "\n",
       "    .dataframe thead th {\n",
       "        text-align: right;\n",
       "    }\n",
       "</style>\n",
       "<table border=\"1\" class=\"dataframe\">\n",
       "  <thead>\n",
       "    <tr style=\"text-align: right;\">\n",
       "      <th></th>\n",
       "      <th>NDC</th>\n",
       "      <th>Product</th>\n",
       "      <th>Major Class</th>\n",
       "      <th>Acute/Chronic</th>\n",
       "      <th>Prod Form</th>\n",
       "      <th>Pack Size</th>\n",
       "      <th>Pack Quantity</th>\n",
       "      <th>WAC</th>\n",
       "      <th>Month</th>\n",
       "      <th>Year</th>\n",
       "      <th>TRx</th>\n",
       "      <th>Date</th>\n",
       "      <th>Pct_change</th>\n",
       "      <th>Changed</th>\n",
       "    </tr>\n",
       "  </thead>\n",
       "  <tbody>\n",
       "    <tr>\n",
       "      <th>0</th>\n",
       "      <td>2143301</td>\n",
       "      <td>TRULICITY 10/2014 LLY</td>\n",
       "      <td>ANTIDIABETICS</td>\n",
       "      <td>CHRONIC</td>\n",
       "      <td>INJECTABLES</td>\n",
       "      <td>1</td>\n",
       "      <td>0.5</td>\n",
       "      <td>244.16</td>\n",
       "      <td>10</td>\n",
       "      <td>2014</td>\n",
       "      <td>NaN</td>\n",
       "      <td>2014_10</td>\n",
       "      <td>NaN</td>\n",
       "      <td>0</td>\n",
       "    </tr>\n",
       "    <tr>\n",
       "      <th>1</th>\n",
       "      <td>2143301</td>\n",
       "      <td>TRULICITY 10/2014 LLY</td>\n",
       "      <td>ANTIDIABETICS</td>\n",
       "      <td>CHRONIC</td>\n",
       "      <td>INJECTABLES</td>\n",
       "      <td>1</td>\n",
       "      <td>0.5</td>\n",
       "      <td>244.16</td>\n",
       "      <td>11</td>\n",
       "      <td>2014</td>\n",
       "      <td>6.0</td>\n",
       "      <td>2014_11</td>\n",
       "      <td>0.0</td>\n",
       "      <td>0</td>\n",
       "    </tr>\n",
       "    <tr>\n",
       "      <th>2</th>\n",
       "      <td>2143301</td>\n",
       "      <td>TRULICITY 10/2014 LLY</td>\n",
       "      <td>ANTIDIABETICS</td>\n",
       "      <td>CHRONIC</td>\n",
       "      <td>INJECTABLES</td>\n",
       "      <td>1</td>\n",
       "      <td>0.5</td>\n",
       "      <td>244.16</td>\n",
       "      <td>12</td>\n",
       "      <td>2014</td>\n",
       "      <td>22.0</td>\n",
       "      <td>2014_12</td>\n",
       "      <td>0.0</td>\n",
       "      <td>0</td>\n",
       "    </tr>\n",
       "    <tr>\n",
       "      <th>3</th>\n",
       "      <td>2143301</td>\n",
       "      <td>TRULICITY 10/2014 LLY</td>\n",
       "      <td>ANTIDIABETICS</td>\n",
       "      <td>CHRONIC</td>\n",
       "      <td>INJECTABLES</td>\n",
       "      <td>1</td>\n",
       "      <td>0.5</td>\n",
       "      <td>244.16</td>\n",
       "      <td>1</td>\n",
       "      <td>2015</td>\n",
       "      <td>21.0</td>\n",
       "      <td>2015_01</td>\n",
       "      <td>0.0</td>\n",
       "      <td>0</td>\n",
       "    </tr>\n",
       "    <tr>\n",
       "      <th>4</th>\n",
       "      <td>2143301</td>\n",
       "      <td>TRULICITY 10/2014 LLY</td>\n",
       "      <td>ANTIDIABETICS</td>\n",
       "      <td>CHRONIC</td>\n",
       "      <td>INJECTABLES</td>\n",
       "      <td>1</td>\n",
       "      <td>0.5</td>\n",
       "      <td>244.16</td>\n",
       "      <td>2</td>\n",
       "      <td>2015</td>\n",
       "      <td>15.0</td>\n",
       "      <td>2015_02</td>\n",
       "      <td>0.0</td>\n",
       "      <td>0</td>\n",
       "    </tr>\n",
       "  </tbody>\n",
       "</table>\n",
       "</div>"
      ],
      "text/plain": [
       "       NDC                Product    Major Class Acute/Chronic    Prod Form  \\\n",
       "0  2143301  TRULICITY 10/2014 LLY  ANTIDIABETICS       CHRONIC  INJECTABLES   \n",
       "1  2143301  TRULICITY 10/2014 LLY  ANTIDIABETICS       CHRONIC  INJECTABLES   \n",
       "2  2143301  TRULICITY 10/2014 LLY  ANTIDIABETICS       CHRONIC  INJECTABLES   \n",
       "3  2143301  TRULICITY 10/2014 LLY  ANTIDIABETICS       CHRONIC  INJECTABLES   \n",
       "4  2143301  TRULICITY 10/2014 LLY  ANTIDIABETICS       CHRONIC  INJECTABLES   \n",
       "\n",
       "   Pack Size  Pack Quantity     WAC  Month  Year   TRx     Date  Pct_change  \\\n",
       "0          1            0.5  244.16     10  2014   NaN  2014_10         NaN   \n",
       "1          1            0.5  244.16     11  2014   6.0  2014_11         0.0   \n",
       "2          1            0.5  244.16     12  2014  22.0  2014_12         0.0   \n",
       "3          1            0.5  244.16      1  2015  21.0  2015_01         0.0   \n",
       "4          1            0.5  244.16      2  2015  15.0  2015_02         0.0   \n",
       "\n",
       "   Changed  \n",
       "0        0  \n",
       "1        0  \n",
       "2        0  \n",
       "3        0  \n",
       "4        0  "
      ]
     },
     "execution_count": 34,
     "metadata": {},
     "output_type": "execute_result"
    }
   ],
   "source": [
    "dataframe = pd.read_csv(\"../Processed_Data/drugs_pct_changes_monthly_since2014_V3.csv\")\n",
    "dataframe.head()"
   ]
  },
  {
   "cell_type": "code",
   "execution_count": 35,
   "metadata": {},
   "outputs": [
    {
     "name": "stdout",
     "output_type": "stream",
     "text": [
      "The data in skewed. The percentage of records showing a price change is:  0.06354855296018805\n",
      "We went from 272280 records to 34606 records to balance the data.\n"
     ]
    }
   ],
   "source": [
    "# Skewed data \n",
    "print('The data in skewed. The percentage of records showing a price change is: ', dataframe.Changed.mean())\n",
    "\n",
    "# Undersampling\n",
    "samplesize = len(dataframe[dataframe.Changed == 1])\n",
    "unchanged_indices = dataframe[dataframe.Changed == 0].index\n",
    "random_indices = np.random.choice(unchanged_indices, samplesize, replace=False)\n",
    "df = dataframe[dataframe.index.isin(random_indices) | dataframe.Changed==1].copy()\n",
    "\n",
    "# Consequence\n",
    "print(f\"We went from {len(dataframe)} records to {len(df)} records to balance the data.\")\n"
   ]
  },
  {
   "cell_type": "markdown",
   "metadata": {},
   "source": [
    "### Preprocessing"
   ]
  },
  {
   "cell_type": "code",
   "execution_count": 36,
   "metadata": {},
   "outputs": [
    {
     "data": {
      "text/html": [
       "<div>\n",
       "<style scoped>\n",
       "    .dataframe tbody tr th:only-of-type {\n",
       "        vertical-align: middle;\n",
       "    }\n",
       "\n",
       "    .dataframe tbody tr th {\n",
       "        vertical-align: top;\n",
       "    }\n",
       "\n",
       "    .dataframe thead th {\n",
       "        text-align: right;\n",
       "    }\n",
       "</style>\n",
       "<table border=\"1\" class=\"dataframe\">\n",
       "  <thead>\n",
       "    <tr style=\"text-align: right;\">\n",
       "      <th></th>\n",
       "      <th>NDC</th>\n",
       "      <th>Product</th>\n",
       "      <th>Major Class</th>\n",
       "      <th>Acute/Chronic</th>\n",
       "      <th>Prod Form</th>\n",
       "      <th>Pack Size</th>\n",
       "      <th>Pack Quantity</th>\n",
       "      <th>WAC</th>\n",
       "      <th>Month</th>\n",
       "      <th>Year</th>\n",
       "      <th>TRx</th>\n",
       "      <th>Date</th>\n",
       "      <th>Pct_change</th>\n",
       "      <th>Changed</th>\n",
       "      <th>month_sin</th>\n",
       "      <th>month_cos</th>\n",
       "    </tr>\n",
       "  </thead>\n",
       "  <tbody>\n",
       "    <tr>\n",
       "      <th>1</th>\n",
       "      <td>2143301</td>\n",
       "      <td>TRULICITY 10/2014 LLY</td>\n",
       "      <td>ANTIDIABETICS</td>\n",
       "      <td>CHRONIC</td>\n",
       "      <td>INJECTABLES</td>\n",
       "      <td>1</td>\n",
       "      <td>0.5</td>\n",
       "      <td>244.16</td>\n",
       "      <td>11</td>\n",
       "      <td>2014</td>\n",
       "      <td>6.0</td>\n",
       "      <td>2014_11</td>\n",
       "      <td>0.000000</td>\n",
       "      <td>0</td>\n",
       "      <td>-0.87</td>\n",
       "      <td>0.50</td>\n",
       "    </tr>\n",
       "    <tr>\n",
       "      <th>6</th>\n",
       "      <td>2143301</td>\n",
       "      <td>TRULICITY 10/2014 LLY</td>\n",
       "      <td>ANTIDIABETICS</td>\n",
       "      <td>CHRONIC</td>\n",
       "      <td>INJECTABLES</td>\n",
       "      <td>1</td>\n",
       "      <td>0.5</td>\n",
       "      <td>244.16</td>\n",
       "      <td>4</td>\n",
       "      <td>2015</td>\n",
       "      <td>47.0</td>\n",
       "      <td>2015_04</td>\n",
       "      <td>0.000000</td>\n",
       "      <td>0</td>\n",
       "      <td>1.00</td>\n",
       "      <td>0.00</td>\n",
       "    </tr>\n",
       "    <tr>\n",
       "      <th>7</th>\n",
       "      <td>2143301</td>\n",
       "      <td>TRULICITY 10/2014 LLY</td>\n",
       "      <td>ANTIDIABETICS</td>\n",
       "      <td>CHRONIC</td>\n",
       "      <td>INJECTABLES</td>\n",
       "      <td>1</td>\n",
       "      <td>0.5</td>\n",
       "      <td>265.90</td>\n",
       "      <td>5</td>\n",
       "      <td>2015</td>\n",
       "      <td>36.0</td>\n",
       "      <td>2015_05</td>\n",
       "      <td>0.089040</td>\n",
       "      <td>1</td>\n",
       "      <td>0.87</td>\n",
       "      <td>-0.50</td>\n",
       "    </tr>\n",
       "    <tr>\n",
       "      <th>14</th>\n",
       "      <td>2143301</td>\n",
       "      <td>TRULICITY 10/2014 LLY</td>\n",
       "      <td>ANTIDIABETICS</td>\n",
       "      <td>CHRONIC</td>\n",
       "      <td>INJECTABLES</td>\n",
       "      <td>1</td>\n",
       "      <td>0.5</td>\n",
       "      <td>287.40</td>\n",
       "      <td>12</td>\n",
       "      <td>2015</td>\n",
       "      <td>79.0</td>\n",
       "      <td>2015_12</td>\n",
       "      <td>0.080857</td>\n",
       "      <td>1</td>\n",
       "      <td>-0.50</td>\n",
       "      <td>0.87</td>\n",
       "    </tr>\n",
       "    <tr>\n",
       "      <th>22</th>\n",
       "      <td>2143301</td>\n",
       "      <td>TRULICITY 10/2014 LLY</td>\n",
       "      <td>ANTIDIABETICS</td>\n",
       "      <td>CHRONIC</td>\n",
       "      <td>INJECTABLES</td>\n",
       "      <td>1</td>\n",
       "      <td>0.5</td>\n",
       "      <td>313.00</td>\n",
       "      <td>8</td>\n",
       "      <td>2016</td>\n",
       "      <td>117.0</td>\n",
       "      <td>2016_08</td>\n",
       "      <td>0.089074</td>\n",
       "      <td>1</td>\n",
       "      <td>-0.50</td>\n",
       "      <td>-0.87</td>\n",
       "    </tr>\n",
       "  </tbody>\n",
       "</table>\n",
       "</div>"
      ],
      "text/plain": [
       "        NDC                Product    Major Class Acute/Chronic    Prod Form  \\\n",
       "1   2143301  TRULICITY 10/2014 LLY  ANTIDIABETICS       CHRONIC  INJECTABLES   \n",
       "6   2143301  TRULICITY 10/2014 LLY  ANTIDIABETICS       CHRONIC  INJECTABLES   \n",
       "7   2143301  TRULICITY 10/2014 LLY  ANTIDIABETICS       CHRONIC  INJECTABLES   \n",
       "14  2143301  TRULICITY 10/2014 LLY  ANTIDIABETICS       CHRONIC  INJECTABLES   \n",
       "22  2143301  TRULICITY 10/2014 LLY  ANTIDIABETICS       CHRONIC  INJECTABLES   \n",
       "\n",
       "    Pack Size  Pack Quantity     WAC  Month  Year    TRx     Date  Pct_change  \\\n",
       "1           1            0.5  244.16     11  2014    6.0  2014_11    0.000000   \n",
       "6           1            0.5  244.16      4  2015   47.0  2015_04    0.000000   \n",
       "7           1            0.5  265.90      5  2015   36.0  2015_05    0.089040   \n",
       "14          1            0.5  287.40     12  2015   79.0  2015_12    0.080857   \n",
       "22          1            0.5  313.00      8  2016  117.0  2016_08    0.089074   \n",
       "\n",
       "    Changed  month_sin  month_cos  \n",
       "1         0      -0.87       0.50  \n",
       "6         0       1.00       0.00  \n",
       "7         1       0.87      -0.50  \n",
       "14        1      -0.50       0.87  \n",
       "22        1      -0.50      -0.87  "
      ]
     },
     "execution_count": 36,
     "metadata": {},
     "output_type": "execute_result"
    }
   ],
   "source": [
    "# We encode the month in a cyclyc form to take into account the cyclyc aspect in months\n",
    "df['month_sin'] = round(np.sin((df.Month-1)*(2.*np.pi/12)), 2)\n",
    "df['month_cos'] = round(np.cos((df.Month-1)*(2.*np.pi/12)), 2)\n",
    "\n",
    "# Also creating a decoder dict for later\n",
    "mth_decoder = dict()\n",
    "for mth in np.arange(0, 12):\n",
    "    mth_decoder[mth + 1] = (round(np.sin((mth)*(2.*np.pi/12)), 2), round(np.cos((mth)*(2.*np.pi/12)), 2))\n",
    "mth_decoder = {v: k for k, v in mth_decoder.items()} \n",
    "\n",
    "\n",
    "df.head()"
   ]
  },
  {
   "cell_type": "code",
   "execution_count": 37,
   "metadata": {},
   "outputs": [],
   "source": [
    "# Getting dummies for Acute\n",
    "acute = pd.get_dummies(df['Acute/Chronic'], drop_first=False)\n",
    "# Getting dummies for drug Class\n",
    "clas = pd.get_dummies(df['Major Class'])   \n",
    "# Getting dummies for product form\n",
    "form = pd.get_dummies(df['Prod Form'])  \n",
    "# Combining all the featuress\n",
    "features = pd.concat([acute, clas, form, df['month_sin'], df['month_cos']], axis=1).columns\n",
    "X = pd.concat([acute, clas, form, df['month_sin'], df['month_cos']], axis=1)\n",
    "# Getting the dependent variable\n",
    "y = df.Changed\n",
    "\n",
    "\n",
    "# Train/test sets\n",
    "X_train, X_test, y_train, y_test = train_test_split(X, y, test_size = 0.2, random_state = 0)"
   ]
  },
  {
   "cell_type": "markdown",
   "metadata": {},
   "source": [
    "### Building Logistic regression classifier"
   ]
  },
  {
   "cell_type": "code",
   "execution_count": 48,
   "metadata": {},
   "outputs": [
    {
     "data": {
      "text/plain": [
       "LogisticRegression(C=1, max_iter=1000000)"
      ]
     },
     "execution_count": 48,
     "metadata": {},
     "output_type": "execute_result"
    }
   ],
   "source": [
    "classifier = LogisticRegression(C=1, max_iter=1000000)\n",
    "classifier.fit(X_train, y_train)"
   ]
  },
  {
   "cell_type": "code",
   "execution_count": 49,
   "metadata": {},
   "outputs": [
    {
     "name": "stdout",
     "output_type": "stream",
     "text": [
      "Accuracy: 0.63941057497833\n",
      "\n",
      "Confusion Matrix: \n",
      "[[2099 1386]\n",
      " [1110 2327]]\n"
     ]
    }
   ],
   "source": [
    "y_pred = 1 * (classifier.predict_proba(X_test)[:, 1] > .5)\n",
    "acc = np.average(y_pred == y_test)\n",
    "cm = confusion_matrix(y_test, y_pred)\n",
    "\n",
    "\n",
    "print(f'Accuracy: {acc}')\n",
    "print()\n",
    "print(f\"Confusion Matrix: \\n{cm}\")"
   ]
  },
  {
   "cell_type": "markdown",
   "metadata": {},
   "source": [
    "### Building Naive Bayes classifier"
   ]
  },
  {
   "cell_type": "code",
   "execution_count": 50,
   "metadata": {},
   "outputs": [
    {
     "data": {
      "text/plain": [
       "GaussianNB()"
      ]
     },
     "execution_count": 50,
     "metadata": {},
     "output_type": "execute_result"
    }
   ],
   "source": [
    "classifier = GaussianNB()\n",
    "classifier.fit(X_train, y_train)"
   ]
  },
  {
   "cell_type": "code",
   "execution_count": 51,
   "metadata": {},
   "outputs": [
    {
     "name": "stdout",
     "output_type": "stream",
     "text": [
      "Accuracy: 0.5115573533660792\n",
      "\n",
      "Confusion Matrix: \n",
      "[[ 235 3250]\n",
      " [ 131 3306]]\n"
     ]
    }
   ],
   "source": [
    "y_pred = 1 * (classifier.predict_proba(X_test)[:, 1] > .5)\n",
    "acc = np.average(y_pred == y_test)\n",
    "cm = confusion_matrix(y_test, y_pred)\n",
    "\n",
    "\n",
    "print(f'Accuracy: {acc}')\n",
    "print()\n",
    "print(f\"Confusion Matrix: \\n{cm}\")"
   ]
  },
  {
   "cell_type": "markdown",
   "metadata": {},
   "source": [
    "### Building Random Forest classifier"
   ]
  },
  {
   "cell_type": "code",
   "execution_count": 52,
   "metadata": {},
   "outputs": [
    {
     "data": {
      "text/plain": [
       "RandomForestClassifier(criterion='entropy', n_estimators=50, random_state=0)"
      ]
     },
     "execution_count": 52,
     "metadata": {},
     "output_type": "execute_result"
    }
   ],
   "source": [
    "classifier = RandomForestClassifier(n_estimators = 50, criterion = 'entropy', random_state = 0)\n",
    "classifier.fit(X_train, y_train)"
   ]
  },
  {
   "cell_type": "code",
   "execution_count": 53,
   "metadata": {},
   "outputs": [
    {
     "name": "stdout",
     "output_type": "stream",
     "text": [
      "Accuracy: 0.7455937590291823\n",
      "\n",
      "Confusion Matrix: \n",
      "[[2598  887]\n",
      " [ 874 2563]]\n"
     ]
    }
   ],
   "source": [
    "y_pred = 1 * (classifier.predict_proba(X_test)[:, 1] > .5)\n",
    "acc = np.average(y_pred == y_test)\n",
    "cm = confusion_matrix(y_test, y_pred)\n",
    "\n",
    "\n",
    "print(f'Accuracy: {acc}')\n",
    "print()\n",
    "print(f\"Confusion Matrix: \\n{cm}\")"
   ]
  },
  {
   "cell_type": "markdown",
   "metadata": {},
   "source": [
    "## Checking results"
   ]
  },
  {
   "cell_type": "code",
   "execution_count": 54,
   "metadata": {},
   "outputs": [],
   "source": [
    "# Helper function to get back the dataframe from training array\n",
    "def dum_to_normal(X_test):\n",
    "    X_test_1 = X_test.iloc[:, 0:2][X_test.iloc[:, 0:2]==1].stack().reset_index().drop(0,1).set_index('level_0').rename(columns={'level_1': 'Acute/Chronic'})\n",
    "    X_test_1.index.name = None\n",
    "\n",
    "    X_test_2 = X_test.iloc[:, 2:77][X_test.iloc[:, 1:76]==1].stack().reset_index().drop(0,1).set_index('level_0').rename(columns={'level_1': 'Major Class'})\n",
    "    X_test_2.index.name = None\n",
    "\n",
    "    X_test_3 = X_test.iloc[:, 77:-2][X_test.iloc[:, 77:-2]==1].stack().reset_index().drop(0,1).set_index('level_0').rename(columns={'level_1': 'Prod Form'})\n",
    "    X_test_3.index.name = None\n",
    "\n",
    "    X_test_4 = X_test.iloc[:, -2:].apply(lambda x: mth_decoder[(x.month_sin, x.month_cos)], axis=1).to_frame().rename(columns={0: 'Month'})\n",
    "\n",
    "    return pd.concat([X_test_1, X_test_2, X_test_3, X_test_4], axis=1)"
   ]
  },
  {
   "cell_type": "code",
   "execution_count": 56,
   "metadata": {},
   "outputs": [
    {
     "data": {
      "text/html": [
       "<div>\n",
       "<style scoped>\n",
       "    .dataframe tbody tr th:only-of-type {\n",
       "        vertical-align: middle;\n",
       "    }\n",
       "\n",
       "    .dataframe tbody tr th {\n",
       "        vertical-align: top;\n",
       "    }\n",
       "\n",
       "    .dataframe thead th {\n",
       "        text-align: right;\n",
       "    }\n",
       "</style>\n",
       "<table border=\"1\" class=\"dataframe\">\n",
       "  <thead>\n",
       "    <tr style=\"text-align: right;\">\n",
       "      <th></th>\n",
       "      <th>Acute/Chronic</th>\n",
       "      <th>Major Class</th>\n",
       "      <th>Prod Form</th>\n",
       "      <th>Month</th>\n",
       "      <th>Changed</th>\n",
       "      <th>Changed_prediction</th>\n",
       "    </tr>\n",
       "  </thead>\n",
       "  <tbody>\n",
       "    <tr>\n",
       "      <th>26</th>\n",
       "      <td>CHRONIC</td>\n",
       "      <td>ANTIDIABETICS</td>\n",
       "      <td>INJECTABLES</td>\n",
       "      <td>12</td>\n",
       "      <td>0</td>\n",
       "      <td>1</td>\n",
       "    </tr>\n",
       "    <tr>\n",
       "      <th>32</th>\n",
       "      <td>CHRONIC</td>\n",
       "      <td>ANTIDIABETICS</td>\n",
       "      <td>INJECTABLES</td>\n",
       "      <td>6</td>\n",
       "      <td>1</td>\n",
       "      <td>1</td>\n",
       "    </tr>\n",
       "    <tr>\n",
       "      <th>84</th>\n",
       "      <td>CHRONIC</td>\n",
       "      <td>ANTIDIABETICS</td>\n",
       "      <td>INJECTABLES</td>\n",
       "      <td>12</td>\n",
       "      <td>1</td>\n",
       "      <td>1</td>\n",
       "    </tr>\n",
       "    <tr>\n",
       "      <th>102</th>\n",
       "      <td>CHRONIC</td>\n",
       "      <td>ANTIDIABETICS</td>\n",
       "      <td>INJECTABLES</td>\n",
       "      <td>6</td>\n",
       "      <td>1</td>\n",
       "      <td>0</td>\n",
       "    </tr>\n",
       "    <tr>\n",
       "      <th>154</th>\n",
       "      <td>CHRONIC</td>\n",
       "      <td>ANTIDIABETICS</td>\n",
       "      <td>INJECTABLES</td>\n",
       "      <td>12</td>\n",
       "      <td>1</td>\n",
       "      <td>0</td>\n",
       "    </tr>\n",
       "    <tr>\n",
       "      <th>...</th>\n",
       "      <td>...</td>\n",
       "      <td>...</td>\n",
       "      <td>...</td>\n",
       "      <td>...</td>\n",
       "      <td>...</td>\n",
       "      <td>...</td>\n",
       "    </tr>\n",
       "    <tr>\n",
       "      <th>272057</th>\n",
       "      <td>ACUTE</td>\n",
       "      <td>DERMATOLOGICS</td>\n",
       "      <td>DERMATOLOGICALS</td>\n",
       "      <td>4</td>\n",
       "      <td>0</td>\n",
       "      <td>1</td>\n",
       "    </tr>\n",
       "    <tr>\n",
       "      <th>272152</th>\n",
       "      <td>ACUTE</td>\n",
       "      <td>DERMATOLOGICS</td>\n",
       "      <td>DERMATOLOGICALS</td>\n",
       "      <td>4</td>\n",
       "      <td>1</td>\n",
       "      <td>1</td>\n",
       "    </tr>\n",
       "    <tr>\n",
       "      <th>272175</th>\n",
       "      <td>ACUTE</td>\n",
       "      <td>DERMATOLOGICS</td>\n",
       "      <td>DERMATOLOGICALS</td>\n",
       "      <td>3</td>\n",
       "      <td>0</td>\n",
       "      <td>0</td>\n",
       "    </tr>\n",
       "    <tr>\n",
       "      <th>272230</th>\n",
       "      <td>ACUTE</td>\n",
       "      <td>DERMATOLOGICS</td>\n",
       "      <td>DERMATOLOGICALS</td>\n",
       "      <td>7</td>\n",
       "      <td>0</td>\n",
       "      <td>0</td>\n",
       "    </tr>\n",
       "    <tr>\n",
       "      <th>272276</th>\n",
       "      <td>ACUTE</td>\n",
       "      <td>DERMATOLOGICS</td>\n",
       "      <td>DERMATOLOGICALS</td>\n",
       "      <td>6</td>\n",
       "      <td>0</td>\n",
       "      <td>1</td>\n",
       "    </tr>\n",
       "  </tbody>\n",
       "</table>\n",
       "<p>6922 rows × 6 columns</p>\n",
       "</div>"
      ],
      "text/plain": [
       "       Acute/Chronic    Major Class        Prod Form  Month  Changed  \\\n",
       "26           CHRONIC  ANTIDIABETICS      INJECTABLES     12        0   \n",
       "32           CHRONIC  ANTIDIABETICS      INJECTABLES      6        1   \n",
       "84           CHRONIC  ANTIDIABETICS      INJECTABLES     12        1   \n",
       "102          CHRONIC  ANTIDIABETICS      INJECTABLES      6        1   \n",
       "154          CHRONIC  ANTIDIABETICS      INJECTABLES     12        1   \n",
       "...              ...            ...              ...    ...      ...   \n",
       "272057         ACUTE  DERMATOLOGICS  DERMATOLOGICALS      4        0   \n",
       "272152         ACUTE  DERMATOLOGICS  DERMATOLOGICALS      4        1   \n",
       "272175         ACUTE  DERMATOLOGICS  DERMATOLOGICALS      3        0   \n",
       "272230         ACUTE  DERMATOLOGICS  DERMATOLOGICALS      7        0   \n",
       "272276         ACUTE  DERMATOLOGICS  DERMATOLOGICALS      6        0   \n",
       "\n",
       "        Changed_prediction  \n",
       "26                       1  \n",
       "32                       1  \n",
       "84                       1  \n",
       "102                      0  \n",
       "154                      0  \n",
       "...                    ...  \n",
       "272057                   1  \n",
       "272152                   1  \n",
       "272175                   0  \n",
       "272230                   0  \n",
       "272276                   1  \n",
       "\n",
       "[6922 rows x 6 columns]"
      ]
     },
     "execution_count": 56,
     "metadata": {},
     "output_type": "execute_result"
    }
   ],
   "source": [
    "# Getting back the dataframe\n",
    "results = pd.concat([dum_to_normal(X_test), y_test], axis=1)\n",
    "# Adding predictions\n",
    "results['Changed_prediction'] = y_pred\n",
    "results"
   ]
  },
  {
   "cell_type": "code",
   "execution_count": null,
   "metadata": {},
   "outputs": [],
   "source": []
  }
 ],
 "metadata": {
  "kernelspec": {
   "display_name": "Python 3",
   "language": "python",
   "name": "python3"
  },
  "language_info": {
   "codemirror_mode": {
    "name": "ipython",
    "version": 3
   },
   "file_extension": ".py",
   "mimetype": "text/x-python",
   "name": "python",
   "nbconvert_exporter": "python",
   "pygments_lexer": "ipython3",
   "version": "3.8.5"
  }
 },
 "nbformat": 4,
 "nbformat_minor": 4
}
