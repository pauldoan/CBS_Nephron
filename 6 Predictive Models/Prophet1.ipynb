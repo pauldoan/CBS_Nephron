{
 "cells": [
  {
   "cell_type": "code",
   "execution_count": 2,
   "metadata": {},
   "outputs": [],
   "source": [
    "import numpy as np\n",
    "import pandas as pd\n",
    "from fbprophet import Prophet\n",
    "import matplotlib.pyplot as plt\n",
    "import warnings\n",
    "warnings.filterwarnings('ignore')\n",
    "from collections import Counter\n",
    "import math"
   ]
  },
  {
   "cell_type": "markdown",
   "metadata": {},
   "source": [
    "# Feature Engineering"
   ]
  },
  {
   "cell_type": "code",
   "execution_count": 46,
   "metadata": {},
   "outputs": [],
   "source": [
    "df = pd.read_csv('monthly_2014_8_2020_7_4k_drugs.csv')\n",
    "def fun(row):\n",
    "    return str(row['Year'])+'-' + str(row['Month'])\n",
    "df['Date'] = df.apply(lambda x:fun(x),axis = 1)\n",
    "df.Date = pd.to_datetime(df.Date)\n",
    "df.sort_values(['Date'],inplace = True)"
   ]
  },
  {
   "cell_type": "code",
   "execution_count": 47,
   "metadata": {},
   "outputs": [],
   "source": [
    "\"\"\"\n",
    "df = df[df['Product Launch Date']!='Unspecified']\n",
    "df['Product Launch Date'] = pd.to_datetime(df['Product Launch Date'])\n",
    "df['Launch_Year'] = df['Product Launch Date'].apply(lambda x:x.year)\n",
    "df['Time_from_launch'] = df.Year - df['Launch_Year']\n",
    "\"\"\""
   ]
  },
  {
   "cell_type": "code",
   "execution_count": 5,
   "metadata": {},
   "outputs": [
    {
     "data": {
      "text/plain": [
       "\"\\ndf = df[df['Estimated LOE Date']!='Unspecified']\\ndf['Maturity_Year'] = df['Estimated LOE Date'].apply(lambda x:int('20'+x[4:]))\\ndf['Time_to_maturity'] = df['Maturity_Year']- df.Year\\n\""
      ]
     },
     "execution_count": 5,
     "metadata": {},
     "output_type": "execute_result"
    }
   ],
   "source": [
    "\"\"\"\n",
    "df = df[df['Estimated LOE Date']!='Unspecified']\n",
    "df['Maturity_Year'] = df['Estimated LOE Date'].apply(lambda x:int('20'+x[4:]))\n",
    "df['Time_to_maturity'] = df['Maturity_Year']- df.Year\n",
    "\"\"\""
   ]
  },
  {
   "cell_type": "markdown",
   "metadata": {},
   "source": [
    "# Filter\n",
    "1. Drugs have WAC data from 2014.8 to 2020.7\n",
    "2. Drugs have TRx data from 2014.8 to 2020.7\n",
    "3. Drop duplicates (one NDC corresponding to two manufacturers)"
   ]
  },
  {
   "cell_type": "code",
   "execution_count": 48,
   "metadata": {},
   "outputs": [],
   "source": [
    "## Filter two\n",
    "df.dropna(subset=['TRx'],inplace = True)\n",
    "## Filter one\n",
    "list1 = df[(df.Year == 2020) & (df.Month == 7)].NDC.unique()\n",
    "list2 = df[(df.Year == 2014) & (df.Month == 8)].NDC.unique()\n",
    "selected_NDC = list(set(list1).intersection(list2)) \n",
    "df = df[df.NDC.isin(selected_NDC)]"
   ]
  },
  {
   "cell_type": "code",
   "execution_count": 49,
   "metadata": {},
   "outputs": [],
   "source": [
    "## Filter top 10 classes\n",
    "temp = df.groupby('Major Class')['NDC'].nunique().reset_index().sort_values('NDC',ascending =False)\n",
    "list3 = temp['Major Class'].tolist()[:10]\n",
    "df = df[df['Major Class'].isin(list3)]"
   ]
  },
  {
   "cell_type": "code",
   "execution_count": 50,
   "metadata": {},
   "outputs": [],
   "source": [
    "## Drop duplicates\n",
    "df = df[~df.duplicated()]\n",
    "df.drop_duplicates(subset=df.columns.difference(['Manufacturer']),inplace = True)"
   ]
  },
  {
   "cell_type": "markdown",
   "metadata": {},
   "source": [
    "# Modeling"
   ]
  },
  {
   "cell_type": "code",
   "execution_count": 42,
   "metadata": {},
   "outputs": [],
   "source": [
    "def predict_pct_month(df,full):\n",
    "        df['TRx']= df['TRx'].rolling(6).mean().shift()## Take previous 6 months average \n",
    "        df.TRx = df.TRx.apply(lambda x:math.log(x)) ## Take logarithm\n",
    "        df.dropna(inplace = True)\n",
    "        date = max(df.ds)\n",
    "        prophet = Prophet(changepoint_prior_scale=0.05, daily_seasonality=False,weekly_seasonality=False,yearly_seasonality=True)\n",
    "        prophet.add_regressor('TRx')\n",
    "        prophet.fit(df)\n",
    "        build_forecast = prophet.make_future_dataframe(periods=12, freq='M')\n",
    "        full['TRx']= full['TRx'].rolling(6).mean().shift()\n",
    "        full.TRx = full.TRx.apply(lambda x:math.log(x))\n",
    "        full.dropna(inplace = True)\n",
    "        build_forecast['TRx'] = full['TRx'].tolist()\n",
    "        forecast = prophet.predict(build_forecast)\n",
    "        forecast = forecast[forecast.ds>=date]\n",
    "        forecast.reset_index(inplace = True)\n",
    "        forecast['pct_change'] = forecast.yhat.apply(lambda x:(x-df.iloc[-1].y)/df.iloc[-1].y)\n",
    "        ##month_ = forecast.iloc[forecast['pct_change'].idxmax()].ds.month\n",
    "        previous_year = df[df.ds>= '2018-08-01']\n",
    "        previous_year.reset_index(inplace = True)\n",
    "        previous_year['pct_change'] = previous_year.y.pct_change()\n",
    "        ## Use this year's change point as prediction for next year\n",
    "        ## If this year the drug price does not increase, go back to previous year\n",
    "        if previous_year['pct_change'].mean() == 0:\n",
    "            previous_year = df[df.ds>= '2017-08-01']\n",
    "            previous_year.reset_index(inplace = True)\n",
    "            previous_year['pct_change'] = previous_year.y.pct_change()\n",
    "            month_ = previous_year.iloc[previous_year['pct_change'].idxmax()].ds.month\n",
    "        else:\n",
    "            month_ = previous_year.iloc[previous_year['pct_change'].idxmax()].ds.month\n",
    "        pct_ = forecast[forecast['pct_change']>0.01]['pct_change'].mean() ## Take average pct_change to filter out fluctuations\n",
    "        if math.isnan(pct_):\n",
    "            pct_ = 0\n",
    "        return month_,pct_\n",
    "   "
   ]
  },
  {
   "cell_type": "code",
   "execution_count": 11,
   "metadata": {},
   "outputs": [],
   "source": [
    "def actual_pct_month(df):\n",
    "    df.reset_index(inplace = True)\n",
    "    df['pct_change'] = df.y.pct_change()\n",
    "    month_true = df.iloc[df['pct_change'].idxmax()].ds.month\n",
    "    pct_true = df['pct_change'].max()\n",
    "    return month_true,pct_true\n",
    "    "
   ]
  },
  {
   "cell_type": "code",
   "execution_count": 12,
   "metadata": {},
   "outputs": [],
   "source": [
    "##Get evaluation\n",
    "def evaluation_result(dict_):\n",
    "    diff_month = []\n",
    "    diff_pct = []\n",
    "    for key in dict_.keys():\n",
    "        if dict_[key][3]!=0: ## Rule out drug that \n",
    "            temp1 = abs(dict_[key][0]-dict_[key][1])\n",
    "            temp2 = min(dict_[key][0],dict_[key][1])+12-max(dict_[key][0],dict_[key][1])\n",
    "            temp = min(temp1,temp2) \n",
    "            diff_month.append(temp)\n",
    "            diff_pct.append(abs(dict_[key][2]-dict_[key][3]))\n",
    "    \n",
    "    diff_month = sum(diff_month)/len(diff_month)\n",
    "    diff_pct = sum(diff_pct)/len(diff_pct)\n",
    "    return diff_month,diff_pct\n",
    "        "
   ]
  },
  {
   "cell_type": "code",
   "execution_count": 13,
   "metadata": {},
   "outputs": [],
   "source": [
    "## Most LIKELY MONTH\n",
    "\"\"\"\n",
    "def Mode_month(dict_):\n",
    "    list_ = []\n",
    "    for key in dict_.keys():\n",
    "        if dict_[key][1]>0.01:\n",
    "            list_.append(dict_[key][0])\n",
    "    data = Counter(list_)  # Returns all unique items and their counts\n",
    "    mode = data.most_common(1)[0][0]\n",
    "    mode_percentage = data.most_common(1)[0][1]/len(list_)\n",
    "    return mode,mode_percentage\n",
    "\"\"\""
   ]
  },
  {
   "cell_type": "code",
   "execution_count": 43,
   "metadata": {},
   "outputs": [],
   "source": [
    "def pipe(class_name):\n",
    "    class_ = df[df['Major Class']==class_name]\n",
    "    dict_ = {}\n",
    "    for NDC in class_.NDC.unique():\n",
    "        try:\n",
    "            temp = class_[class_.NDC == NDC][['Date','WAC','TRx']]\n",
    "            temp.columns = ['ds','y','TRx']\n",
    "            train = temp[temp.ds< '2019-08-01']\n",
    "            test = temp[temp.ds>= '2019-08-01']\n",
    "            c,d = actual_pct_month(test)\n",
    "            if d == 0:\n",
    "                pass\n",
    "            a,b = predict_pct_month(train,temp)\n",
    "            dict_[NDC] = [a,c,b,d]\n",
    "        except:\n",
    "            print(NDC)\n",
    "    return evaluation_result(dict_)\n"
   ]
  },
  {
   "cell_type": "code",
   "execution_count": 51,
   "metadata": {},
   "outputs": [
    {
     "name": "stdout",
     "output_type": "stream",
     "text": [
      "409161050\n",
      "409125301\n",
      "409120301\n",
      "87607005\n",
      "9501401\n",
      "64764012103\n",
      "597019190\n",
      "78040805\n",
      "69600125\n",
      "6391568\n",
      "777310507\n",
      "50458030050\n",
      "10337035860\n",
      "85092401\n",
      "187518006\n",
      "99207001010\n",
      "51672526303\n",
      "43538091012\n",
      "43538091112\n",
      "43538092060\n",
      "69260066\n",
      "69265072\n",
      "61570011001\n",
      "49275066\n",
      "25171002\n"
     ]
    },
    {
     "name": "stderr",
     "output_type": "stream",
     "text": [
      "INFO:fbprophet:n_changepoints greater than number of observations. Using 19.\n"
     ]
    },
    {
     "name": "stdout",
     "output_type": "stream",
     "text": [
      "25191131\n"
     ]
    },
    {
     "name": "stderr",
     "output_type": "stream",
     "text": [
      "INFO:fbprophet:n_changepoints greater than number of observations. Using 19.\n"
     ]
    },
    {
     "name": "stdout",
     "output_type": "stream",
     "text": [
      "140000614\n",
      "206886001\n",
      "206886201\n"
     ]
    },
    {
     "name": "stderr",
     "output_type": "stream",
     "text": [
      "INFO:fbprophet:n_changepoints greater than number of observations. Using 19.\n",
      "INFO:fbprophet:n_changepoints greater than number of observations. Using 23.\n"
     ]
    },
    {
     "name": "stdout",
     "output_type": "stream",
     "text": [
      "67308010106\n",
      "78056661\n",
      "78056761\n",
      "50242007001\n",
      "13013202\n"
     ]
    }
   ],
   "source": [
    "res = {}\n",
    "for major_class in df['Major Class'].unique():\n",
    "    res[major_class] = pipe(major_class)"
   ]
  },
  {
   "cell_type": "code",
   "execution_count": 52,
   "metadata": {},
   "outputs": [
    {
     "data": {
      "text/plain": [
       "{'PAIN': (0.82, 0.021058035381611703),\n",
       " 'ANTIDIABETICS': (0.0, 0.014584455460854481),\n",
       " 'NERVOUS SYSTEM DISORDERS': (0.32142857142857145, 0.07864279025801002),\n",
       " 'MENTAL HEALTH': (0.3614457831325301, 0.015295869975106078),\n",
       " 'DERMATOLOGICS': (0.4166666666666667, 0.011194654384396043),\n",
       " 'ANTIHYPERTENSIVES, PLAIN & COMBO': (0.4782608695652174,\n",
       "  0.016283275044742362),\n",
       " 'RESPIRATORY AGENTS': (0.11538461538461539, 0.009669032572607412),\n",
       " 'OTHER CNS': (0.6216216216216216, 0.01608438452780767),\n",
       " 'ANTIBACTERIALS': (1.6666666666666667, 0.04080531965866624),\n",
       " 'ONCOLOGICS': (0.7738095238095238, 0.013926514112247126)}"
      ]
     },
     "execution_count": 52,
     "metadata": {},
     "output_type": "execute_result"
    }
   ],
   "source": [
    "res ## First is average month_diff across drug class \n",
    "## Second is average pct_change diff across drug class"
   ]
  },
  {
   "cell_type": "code",
   "execution_count": null,
   "metadata": {},
   "outputs": [],
   "source": []
  },
  {
   "cell_type": "code",
   "execution_count": 29,
   "metadata": {
    "scrolled": true
   },
   "outputs": [
    {
     "data": {
      "text/plain": [
       "{'PAIN': (2.42, 0.025552123494570964),\n",
       " 'ANTIDIABETICS': (1.5892857142857142, 0.0168335097490989),\n",
       " 'NERVOUS SYSTEM DISORDERS': (2.232142857142857, 0.017448531989300495),\n",
       " 'MENTAL HEALTH': (1.7590361445783131, 0.022394225563417733),\n",
       " 'DERMATOLOGICS': (2.25, 0.02312078100469477),\n",
       " 'ANTIHYPERTENSIVES, PLAIN & COMBO': (2.717391304347826, 0.03780697051068805),\n",
       " 'RESPIRATORY AGENTS': (2.1923076923076925, 0.01315855073442027),\n",
       " 'OTHER CNS': (2.5675675675675675, 0.03197545114105418),\n",
       " 'ANTIBACTERIALS': (2.2222222222222223, 0.06700542161188248),\n",
       " 'ONCOLOGICS': (2.7261904761904763, 0.021971020122865566)}"
      ]
     },
     "execution_count": 29,
     "metadata": {},
     "output_type": "execute_result"
    }
   ],
   "source": [
    "res ## Previous version results without optimization"
   ]
  }
 ],
 "metadata": {
  "kernelspec": {
   "display_name": "Python 3",
   "language": "python",
   "name": "python3"
  },
  "language_info": {
   "codemirror_mode": {
    "name": "ipython",
    "version": 3
   },
   "file_extension": ".py",
   "mimetype": "text/x-python",
   "name": "python",
   "nbconvert_exporter": "python",
   "pygments_lexer": "ipython3",
   "version": "3.8.5"
  }
 },
 "nbformat": 4,
 "nbformat_minor": 4
}
