{
 "cells": [
  {
   "cell_type": "code",
   "execution_count": 6,
   "metadata": {},
   "outputs": [],
   "source": [
    "import pandas as pd\n",
    "import scipy.cluster.hierarchy as spc\n",
    "import datetime"
   ]
  },
  {
   "cell_type": "markdown",
   "metadata": {},
   "source": [
    "# Clustering Drugs based on Sales correlation"
   ]
  },
  {
   "cell_type": "code",
   "execution_count": 12,
   "metadata": {},
   "outputs": [
    {
     "name": "stderr",
     "output_type": "stream",
     "text": [
      "/usr/local/lib/python3.7/site-packages/ipykernel_launcher.py:22: SettingWithCopyWarning: \n",
      "A value is trying to be set on a copy of a slice from a DataFrame.\n",
      "Try using .loc[row_indexer,col_indexer] = value instead\n",
      "\n",
      "See the caveats in the documentation: https://pandas.pydata.org/pandas-docs/stable/user_guide/indexing.html#returning-a-view-versus-a-copy\n"
     ]
    }
   ],
   "source": [
    "class NdcClass:\n",
    "    def __init__(self, description_df, sales_df):\n",
    "        self.description_df = description_df\n",
    "        self.sales_df = sales_df\n",
    "def create_ndc_sales_data():\n",
    "    #read data from csv\n",
    "    sales_df= pd.read_csv('merge_with_iqvia_2017_01_2020_09_monthly.csv')\n",
    "    df_ndc_description=sales_df[['NDC','Major Class','Acute/Chronic','Prod Form']].drop_duplicates()\n",
    "    df_ndc_description.columns=['NDC','Major_Class','Acute_Chronic','Prod_Form']\n",
    "    df_ndc_description.set_index('NDC',inplace=True)\n",
    "    #pick columns\n",
    "    sales_df=sales_df[['NDC','Month','Year','TRx','WAC']]\n",
    "    #convert date to datetime\n",
    "    sales_df['Date']=sales_df.apply (lambda row: datetime.datetime(int(row.Year),int(row.Month),1), axis=1)\n",
    "    #rename columns\n",
    "    sales_df.columns=['ndc','month','year','trx','wac','date']\n",
    "    #index dataframe\n",
    "    ssales_df=sales_df.set_index(['date','ndc'])\n",
    "    #pick the columns we need\n",
    "    sales_df=ssales_df[['trx','wac']]\n",
    "    #compute sales\n",
    "    sales_df['sales']=sales_df.apply (lambda row: row.trx*row.wac, axis=1)\n",
    "    #pivot the dataframe to get classes on columns and dates on rows\n",
    "    sales_df=pd.pivot_table(sales_df, values=['sales'], index=['date'],columns=['ndc'])\n",
    "    #fill missing data\n",
    "    sales_df.fillna(method='ffill',inplace=True)\n",
    "    sales_df.fillna(method='bfill',inplace=True)\n",
    "    sales_df.fillna(0,inplace=True)\n",
    "    \n",
    "    ndcclass=NdcClass(df_ndc_description,sales_df)\n",
    "    return ndcclass\n",
    "sales_df_cls=create_ndc_sales_data()"
   ]
  },
  {
   "cell_type": "code",
   "execution_count": 34,
   "metadata": {},
   "outputs": [],
   "source": [
    "def build_ndc_sales_clusters(sales_df_cls):\n",
    "    #get sales dataframe\n",
    "    sales_df=sales_df_cls.sales_df\n",
    "    #compute correlation\n",
    "    sales_df_c=sales_df.corr()\n",
    "    #fill missing data\n",
    "    sales_df_c.fillna(0,inplace=True)\n",
    "    #compute distance between correlations\n",
    "    pdist_sales = spc.distance.pdist(sales_df_c)\n",
    "    #link data base com their correlation\n",
    "    linkage_sales = spc.linkage(pdist_sales, method='complete')\n",
    "    #build clusters indices\n",
    "    idx_sales = spc.fcluster(linkage_sales, 0.5 * pdist_sales.max(), 'distance')\n",
    "    #build cluster\n",
    "    clusters_sales = pd.DataFrame(idx_sales, index =sales_df_c.index, columns =['cluster']) \n",
    "    #reset index\n",
    "    clusters_sales=clusters_sales.reset_index()[['ndc','cluster']]\n",
    "    #set index\n",
    "    clusters_sales.set_index('ndc', inplace=True)\n",
    "    #Add description to cluster\n",
    "    clusters_sales=pd.merge(clusters_sales,sales_df_cls.description_df, left_index=True, right_index=True)\n",
    "    return clusters_sales\n",
    "cluster_ndc_sales=build_ndc_sales_clusters(sales_df_cls)\n",
    "cluster_ndc_sales\n"
   ]
  },
  {
   "cell_type": "markdown",
   "metadata": {},
   "source": [
    "# Clustering Drugs' Classes based on Sales correlation"
   ]
  },
  {
   "cell_type": "code",
   "execution_count": 35,
   "metadata": {},
   "outputs": [],
   "source": [
    "def get_class_data():\n",
    "    #read class level trx\n",
    "    df_trx=pd.read_csv('aggregated_trx_class.csv')\n",
    "    #read class data price\n",
    "    df_wac=pd.read_csv('aggregated_weighted_WAC_class.csv')\n",
    "    #create empty sales dataframe\n",
    "    df_sales = pd.DataFrame()\n",
    "    #loop throught dates and compute sales\n",
    "    for x in df_trx:\n",
    "        if(x!='Date'):\n",
    "            df_sales[x]=df_trx[x]*df_wac[x]\n",
    "    #add Date column\n",
    "    df_sales['Date']=df_wac['Date']\n",
    "    #convert dates to datetime type\n",
    "    df_sales['Date']=df_sales.apply (lambda row: datetime.datetime(int(row.Date.split(\"_\")[0]), int(row.Date.split(\"_\")[1]), 28),axis=1)\n",
    "    #set date as the index\n",
    "    df_sales.set_index('Date',inplace=True)\n",
    "    return df_sales\n",
    "\n",
    "\n",
    "def get_build_class_cluster(df_sales):\n",
    "    #compute sales correlation\n",
    "    df_sales_corr=df_sales.corr()\n",
    "    #fill missing data\n",
    "    df_sales_corr=df_sales_corr.fillna(0)\n",
    "    #compute distance between corelation\n",
    "    pdist_sales_corr = spc.distance.pdist(df_sales_corr)\n",
    "    #link classes based on these correlations\n",
    "    linkage_sales_corr = spc.linkage(pdist_sales_corr, method='complete')\n",
    "    #create indice bases on the distance and correlation\n",
    "    idx_sales = spc.fcluster(linkage_sales_corr, 0.5 * pdist_sales_corr.max(), 'distance')\n",
    "    #build clusters\n",
    "    clusters_sales_class = pd.DataFrame(idx_sales, index =df_sales_corr.index, columns =['cluster'])\n",
    "    return clusters_sales_class\n"
   ]
  },
  {
   "cell_type": "code",
   "execution_count": 37,
   "metadata": {},
   "outputs": [],
   "source": [
    "class_sales=get_class_data()\n",
    "class_clusters=get_build_class_cluster(class_sales)"
   ]
  },
  {
   "cell_type": "code",
   "execution_count": 38,
   "metadata": {},
   "outputs": [
    {
     "data": {
      "text/html": [
       "<div>\n",
       "<style scoped>\n",
       "    .dataframe tbody tr th:only-of-type {\n",
       "        vertical-align: middle;\n",
       "    }\n",
       "\n",
       "    .dataframe tbody tr th {\n",
       "        vertical-align: top;\n",
       "    }\n",
       "\n",
       "    .dataframe thead th {\n",
       "        text-align: right;\n",
       "    }\n",
       "</style>\n",
       "<table border=\"1\" class=\"dataframe\">\n",
       "  <thead>\n",
       "    <tr style=\"text-align: right;\">\n",
       "      <th></th>\n",
       "      <th>cluster</th>\n",
       "    </tr>\n",
       "  </thead>\n",
       "  <tbody>\n",
       "    <tr>\n",
       "      <th>A.C.T.H.</th>\n",
       "      <td>1</td>\n",
       "    </tr>\n",
       "    <tr>\n",
       "      <th>A05A1 CHOLERETICS+CHOLEKINETIC</th>\n",
       "      <td>1</td>\n",
       "    </tr>\n",
       "    <tr>\n",
       "      <th>ADHD</th>\n",
       "      <td>1</td>\n",
       "    </tr>\n",
       "    <tr>\n",
       "      <th>ALL OTHER RESPIRATORY</th>\n",
       "      <td>2</td>\n",
       "    </tr>\n",
       "    <tr>\n",
       "      <th>ALL OTHER THERAPEUTICS</th>\n",
       "      <td>3</td>\n",
       "    </tr>\n",
       "    <tr>\n",
       "      <th>...</th>\n",
       "      <td>...</td>\n",
       "    </tr>\n",
       "    <tr>\n",
       "      <th>THYROID ANTI-THYROID AND IODINE PREPS</th>\n",
       "      <td>1</td>\n",
       "    </tr>\n",
       "    <tr>\n",
       "      <th>URINARY INCONTINENCE</th>\n",
       "      <td>2</td>\n",
       "    </tr>\n",
       "    <tr>\n",
       "      <th>VACCINES (PURE, COMB, OTHER)</th>\n",
       "      <td>3</td>\n",
       "    </tr>\n",
       "    <tr>\n",
       "      <th>VIRAL HEPATITIS</th>\n",
       "      <td>1</td>\n",
       "    </tr>\n",
       "    <tr>\n",
       "      <th>VITAMINS &amp; MINERALS</th>\n",
       "      <td>1</td>\n",
       "    </tr>\n",
       "  </tbody>\n",
       "</table>\n",
       "<p>75 rows × 1 columns</p>\n",
       "</div>"
      ],
      "text/plain": [
       "                                       cluster\n",
       "A.C.T.H.                                     1\n",
       "A05A1 CHOLERETICS+CHOLEKINETIC               1\n",
       "ADHD                                         1\n",
       "ALL OTHER RESPIRATORY                        2\n",
       "ALL OTHER THERAPEUTICS                       3\n",
       "...                                        ...\n",
       "THYROID ANTI-THYROID AND IODINE PREPS        1\n",
       "URINARY INCONTINENCE                         2\n",
       "VACCINES (PURE, COMB, OTHER)                 3\n",
       "VIRAL HEPATITIS                              1\n",
       "VITAMINS & MINERALS                          1\n",
       "\n",
       "[75 rows x 1 columns]"
      ]
     },
     "execution_count": 38,
     "metadata": {},
     "output_type": "execute_result"
    }
   ],
   "source": [
    "class_clusters"
   ]
  },
  {
   "cell_type": "code",
   "execution_count": null,
   "metadata": {},
   "outputs": [],
   "source": []
  }
 ],
 "metadata": {
  "kernelspec": {
   "display_name": "Python 3",
   "language": "python",
   "name": "python3"
  },
  "language_info": {
   "codemirror_mode": {
    "name": "ipython",
    "version": 3
   },
   "file_extension": ".py",
   "mimetype": "text/x-python",
   "name": "python",
   "nbconvert_exporter": "python",
   "pygments_lexer": "ipython3",
   "version": "3.7.7"
  }
 },
 "nbformat": 4,
 "nbformat_minor": 4
}
